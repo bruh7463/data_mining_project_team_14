{
  "cells": [
    {
      "cell_type": "markdown",
      "metadata": {
        "id": "view-in-github",
        "colab_type": "text"
      },
      "source": [
        "<a href=\"https://colab.research.google.com/github/bruh7463/data_mining_project_team_14/blob/main/data_mining_project.ipynb\" target=\"_parent\"><img src=\"https://colab.research.google.com/assets/colab-badge.svg\" alt=\"Open In Colab\"/></a>"
      ]
    },
    {
      "cell_type": "markdown",
      "metadata": {
        "id": "EZ7c8-oVzbfQ"
      },
      "source": [
        "<center>\n",
        "  <font size=6><b>CSC 4792: Data Mining and Warehousing</b></font><br />\n",
        "  <font size=3>Group Project: Classify country of origin for Wikipedia user contributions on Zambian Wikipedia pages</font>\n",
        "\n",
        "   <b>Group Members</b> </br>\n",
        "   Simon Chanda </br>\n",
        "   Lawrence Chitandula </br>\n",
        "   Chilufya Chulu </br>\n",
        "   Kasweka Michael Mukoko </br>\n",
        "   Mike Shatamuka </br>\n",
        "</center>"
      ]
    },
    {
      "cell_type": "markdown",
      "metadata": {
        "id": "rqhaLL_N32Ol"
      },
      "source": [
        "\n",
        "# **1. Business Understanding**\n",
        "### Problem Statement\n",
        "Wikipedia pages related to Zambia have fewer local contributions than international ones. There is little understanding of where the contributors of Zambian-related pages come from, including the Zambia page. Without this information, it is difficult to create specific strategies that boost contributions from Zambian Wikipedians. The goal is to find out and categorize the origins of Wikipedia users who contribute to Zambian pages. This will help in planning actions that promote more local involvement.\n",
        "\n",
        "### Business Objectives\n",
        "- Identify the percentage of contributions to Zambian Wikipedia articles by users from Zambia compared to other nations.\n",
        "- Provide practical advice to guide strategies for Zambian-based contributions.\n",
        "- Support The University of Zambia's DataLab Research Group in advocating for greater representation of local perspectives on Wikipedia.\n",
        "- Enable long-term monitoring of contribution by country of origin.\n",
        "\n",
        "### What Success Looks Like In Practice\n",
        "- An unambiguous evidence based report on the contributions by country.\n",
        "- It was possible to identify trends of where most of edits are made.\n",
        "- Lessons that could be shared with Wikimedia communities and policymakers incase of encouraging locals to contribute.\n",
        "\n",
        "### Data Mining Goals\n",
        "- Create a prediction model that can determine the most likely country of origin for each Wikipedia edit made to Zambian pages, using details like the user’s IP address (for anonymous edits), profile information, and the timing of edits.\n",
        "\n",
        "- Analyze and visualize the data to show clear summaries of how contributions are distributed by country.\n",
        "\n",
        "\n",
        "### Initial Project Success Criteria\n",
        "\n",
        "- Produce a clear and accurate breakdown of Wikipedia contributions to Zambian pages by country of origin.\n",
        "- Achieve at least 80% accuracy in classifying the country of origin for contributions.\n",
        "- Visualize contribution patterns and trends over time through interpretable dashboards or charts.\n",
        "- Provide actionable insights that can guide strategies to increase local Zambian participation.\n",
        "\n"
      ]
    },
    {
      "cell_type": "markdown",
      "metadata": {
        "id": "mFgTqR3DEmEp"
      },
      "source": [
        "# **2. Data Understanding**"
      ]
    },
    {
      "cell_type": "code",
      "execution_count": 121,
      "metadata": {
        "colab": {
          "base_uri": "https://localhost:8080/"
        },
        "id": "f1y272r2_e9s",
        "outputId": "c9e67873-81ef-4a0d-cc03-ed9801193ee8"
      },
      "outputs": [
        {
          "output_type": "stream",
          "name": "stdout",
          "text": [
            "Drive already mounted at /content/drive; to attempt to forcibly remount, call drive.mount(\"/content/drive\", force_remount=True).\n"
          ]
        }
      ],
      "source": [
        "from google.colab import drive\n",
        "drive.mount('/content/drive')"
      ]
    },
    {
      "cell_type": "code",
      "execution_count": 122,
      "metadata": {
        "colab": {
          "base_uri": "https://localhost:8080/",
          "height": 347
        },
        "id": "bBVn_-eZ_jV0",
        "outputId": "4b3d46d6-69dc-4f37-9a77-54cbcb32f2b1"
      },
      "outputs": [
        {
          "output_type": "stream",
          "name": "stdout",
          "text": [
            "Dataset Shape: (12990, 10)\n"
          ]
        },
        {
          "output_type": "execute_result",
          "data": {
            "text/plain": [
              "   page_id   title  rev_id             timestamp  contributor_id  \\\n",
              "0    15643  Zambia   66041  2005-10-31T08:48:31Z             NaN   \n",
              "1    15643  Zambia   66727  2005-11-05T06:07:50Z             NaN   \n",
              "2    15643  Zambia  100931  2006-02-14T12:33:52Z             NaN   \n",
              "3    15643  Zambia  100964  2006-02-14T15:58:40Z             NaN   \n",
              "4    15643  Zambia  100987  2006-02-14T16:17:15Z             NaN   \n",
              "\n",
              "                       contributor_name  contributor_ip               comment  \\\n",
              "0        User(id=1734, text='Ianleow7')             NaN     Creating article.   \n",
              "1      User(id=1110, text='Ricky81682')             NaN         rm unused cat   \n",
              "2  User(id=None, text='81.204.151.102')             NaN                   NaN   \n",
              "3         User(id=2131, text='Archer7')             NaN  corrected formatting   \n",
              "4      User(id=2077, text='Freshstart')             NaN     typos, full names   \n",
              "\n",
              "   minor  text_length  \n",
              "0  False         1617  \n",
              "1  False         1577  \n",
              "2  False         2211  \n",
              "3  False         2219  \n",
              "4   True         2273  "
            ],
            "text/html": [
              "\n",
              "  <div id=\"df-157b1feb-383d-435a-8165-d52deb2f8c59\" class=\"colab-df-container\">\n",
              "    <div>\n",
              "<style scoped>\n",
              "    .dataframe tbody tr th:only-of-type {\n",
              "        vertical-align: middle;\n",
              "    }\n",
              "\n",
              "    .dataframe tbody tr th {\n",
              "        vertical-align: top;\n",
              "    }\n",
              "\n",
              "    .dataframe thead th {\n",
              "        text-align: right;\n",
              "    }\n",
              "</style>\n",
              "<table border=\"1\" class=\"dataframe\">\n",
              "  <thead>\n",
              "    <tr style=\"text-align: right;\">\n",
              "      <th></th>\n",
              "      <th>page_id</th>\n",
              "      <th>title</th>\n",
              "      <th>rev_id</th>\n",
              "      <th>timestamp</th>\n",
              "      <th>contributor_id</th>\n",
              "      <th>contributor_name</th>\n",
              "      <th>contributor_ip</th>\n",
              "      <th>comment</th>\n",
              "      <th>minor</th>\n",
              "      <th>text_length</th>\n",
              "    </tr>\n",
              "  </thead>\n",
              "  <tbody>\n",
              "    <tr>\n",
              "      <th>0</th>\n",
              "      <td>15643</td>\n",
              "      <td>Zambia</td>\n",
              "      <td>66041</td>\n",
              "      <td>2005-10-31T08:48:31Z</td>\n",
              "      <td>NaN</td>\n",
              "      <td>User(id=1734, text='Ianleow7')</td>\n",
              "      <td>NaN</td>\n",
              "      <td>Creating article.</td>\n",
              "      <td>False</td>\n",
              "      <td>1617</td>\n",
              "    </tr>\n",
              "    <tr>\n",
              "      <th>1</th>\n",
              "      <td>15643</td>\n",
              "      <td>Zambia</td>\n",
              "      <td>66727</td>\n",
              "      <td>2005-11-05T06:07:50Z</td>\n",
              "      <td>NaN</td>\n",
              "      <td>User(id=1110, text='Ricky81682')</td>\n",
              "      <td>NaN</td>\n",
              "      <td>rm unused cat</td>\n",
              "      <td>False</td>\n",
              "      <td>1577</td>\n",
              "    </tr>\n",
              "    <tr>\n",
              "      <th>2</th>\n",
              "      <td>15643</td>\n",
              "      <td>Zambia</td>\n",
              "      <td>100931</td>\n",
              "      <td>2006-02-14T12:33:52Z</td>\n",
              "      <td>NaN</td>\n",
              "      <td>User(id=None, text='81.204.151.102')</td>\n",
              "      <td>NaN</td>\n",
              "      <td>NaN</td>\n",
              "      <td>False</td>\n",
              "      <td>2211</td>\n",
              "    </tr>\n",
              "    <tr>\n",
              "      <th>3</th>\n",
              "      <td>15643</td>\n",
              "      <td>Zambia</td>\n",
              "      <td>100964</td>\n",
              "      <td>2006-02-14T15:58:40Z</td>\n",
              "      <td>NaN</td>\n",
              "      <td>User(id=2131, text='Archer7')</td>\n",
              "      <td>NaN</td>\n",
              "      <td>corrected formatting</td>\n",
              "      <td>False</td>\n",
              "      <td>2219</td>\n",
              "    </tr>\n",
              "    <tr>\n",
              "      <th>4</th>\n",
              "      <td>15643</td>\n",
              "      <td>Zambia</td>\n",
              "      <td>100987</td>\n",
              "      <td>2006-02-14T16:17:15Z</td>\n",
              "      <td>NaN</td>\n",
              "      <td>User(id=2077, text='Freshstart')</td>\n",
              "      <td>NaN</td>\n",
              "      <td>typos, full names</td>\n",
              "      <td>True</td>\n",
              "      <td>2273</td>\n",
              "    </tr>\n",
              "  </tbody>\n",
              "</table>\n",
              "</div>\n",
              "    <div class=\"colab-df-buttons\">\n",
              "\n",
              "  <div class=\"colab-df-container\">\n",
              "    <button class=\"colab-df-convert\" onclick=\"convertToInteractive('df-157b1feb-383d-435a-8165-d52deb2f8c59')\"\n",
              "            title=\"Convert this dataframe to an interactive table.\"\n",
              "            style=\"display:none;\">\n",
              "\n",
              "  <svg xmlns=\"http://www.w3.org/2000/svg\" height=\"24px\" viewBox=\"0 -960 960 960\">\n",
              "    <path d=\"M120-120v-720h720v720H120Zm60-500h600v-160H180v160Zm220 220h160v-160H400v160Zm0 220h160v-160H400v160ZM180-400h160v-160H180v160Zm440 0h160v-160H620v160ZM180-180h160v-160H180v160Zm440 0h160v-160H620v160Z\"/>\n",
              "  </svg>\n",
              "    </button>\n",
              "\n",
              "  <style>\n",
              "    .colab-df-container {\n",
              "      display:flex;\n",
              "      gap: 12px;\n",
              "    }\n",
              "\n",
              "    .colab-df-convert {\n",
              "      background-color: #E8F0FE;\n",
              "      border: none;\n",
              "      border-radius: 50%;\n",
              "      cursor: pointer;\n",
              "      display: none;\n",
              "      fill: #1967D2;\n",
              "      height: 32px;\n",
              "      padding: 0 0 0 0;\n",
              "      width: 32px;\n",
              "    }\n",
              "\n",
              "    .colab-df-convert:hover {\n",
              "      background-color: #E2EBFA;\n",
              "      box-shadow: 0px 1px 2px rgba(60, 64, 67, 0.3), 0px 1px 3px 1px rgba(60, 64, 67, 0.15);\n",
              "      fill: #174EA6;\n",
              "    }\n",
              "\n",
              "    .colab-df-buttons div {\n",
              "      margin-bottom: 4px;\n",
              "    }\n",
              "\n",
              "    [theme=dark] .colab-df-convert {\n",
              "      background-color: #3B4455;\n",
              "      fill: #D2E3FC;\n",
              "    }\n",
              "\n",
              "    [theme=dark] .colab-df-convert:hover {\n",
              "      background-color: #434B5C;\n",
              "      box-shadow: 0px 1px 3px 1px rgba(0, 0, 0, 0.15);\n",
              "      filter: drop-shadow(0px 1px 2px rgba(0, 0, 0, 0.3));\n",
              "      fill: #FFFFFF;\n",
              "    }\n",
              "  </style>\n",
              "\n",
              "    <script>\n",
              "      const buttonEl =\n",
              "        document.querySelector('#df-157b1feb-383d-435a-8165-d52deb2f8c59 button.colab-df-convert');\n",
              "      buttonEl.style.display =\n",
              "        google.colab.kernel.accessAllowed ? 'block' : 'none';\n",
              "\n",
              "      async function convertToInteractive(key) {\n",
              "        const element = document.querySelector('#df-157b1feb-383d-435a-8165-d52deb2f8c59');\n",
              "        const dataTable =\n",
              "          await google.colab.kernel.invokeFunction('convertToInteractive',\n",
              "                                                    [key], {});\n",
              "        if (!dataTable) return;\n",
              "\n",
              "        const docLinkHtml = 'Like what you see? Visit the ' +\n",
              "          '<a target=\"_blank\" href=https://colab.research.google.com/notebooks/data_table.ipynb>data table notebook</a>'\n",
              "          + ' to learn more about interactive tables.';\n",
              "        element.innerHTML = '';\n",
              "        dataTable['output_type'] = 'display_data';\n",
              "        await google.colab.output.renderOutput(dataTable, element);\n",
              "        const docLink = document.createElement('div');\n",
              "        docLink.innerHTML = docLinkHtml;\n",
              "        element.appendChild(docLink);\n",
              "      }\n",
              "    </script>\n",
              "  </div>\n",
              "\n",
              "\n",
              "    <div id=\"df-0135f822-cd35-4504-b855-729a32d4b5ab\">\n",
              "      <button class=\"colab-df-quickchart\" onclick=\"quickchart('df-0135f822-cd35-4504-b855-729a32d4b5ab')\"\n",
              "                title=\"Suggest charts\"\n",
              "                style=\"display:none;\">\n",
              "\n",
              "<svg xmlns=\"http://www.w3.org/2000/svg\" height=\"24px\"viewBox=\"0 0 24 24\"\n",
              "     width=\"24px\">\n",
              "    <g>\n",
              "        <path d=\"M19 3H5c-1.1 0-2 .9-2 2v14c0 1.1.9 2 2 2h14c1.1 0 2-.9 2-2V5c0-1.1-.9-2-2-2zM9 17H7v-7h2v7zm4 0h-2V7h2v10zm4 0h-2v-4h2v4z\"/>\n",
              "    </g>\n",
              "</svg>\n",
              "      </button>\n",
              "\n",
              "<style>\n",
              "  .colab-df-quickchart {\n",
              "      --bg-color: #E8F0FE;\n",
              "      --fill-color: #1967D2;\n",
              "      --hover-bg-color: #E2EBFA;\n",
              "      --hover-fill-color: #174EA6;\n",
              "      --disabled-fill-color: #AAA;\n",
              "      --disabled-bg-color: #DDD;\n",
              "  }\n",
              "\n",
              "  [theme=dark] .colab-df-quickchart {\n",
              "      --bg-color: #3B4455;\n",
              "      --fill-color: #D2E3FC;\n",
              "      --hover-bg-color: #434B5C;\n",
              "      --hover-fill-color: #FFFFFF;\n",
              "      --disabled-bg-color: #3B4455;\n",
              "      --disabled-fill-color: #666;\n",
              "  }\n",
              "\n",
              "  .colab-df-quickchart {\n",
              "    background-color: var(--bg-color);\n",
              "    border: none;\n",
              "    border-radius: 50%;\n",
              "    cursor: pointer;\n",
              "    display: none;\n",
              "    fill: var(--fill-color);\n",
              "    height: 32px;\n",
              "    padding: 0;\n",
              "    width: 32px;\n",
              "  }\n",
              "\n",
              "  .colab-df-quickchart:hover {\n",
              "    background-color: var(--hover-bg-color);\n",
              "    box-shadow: 0 1px 2px rgba(60, 64, 67, 0.3), 0 1px 3px 1px rgba(60, 64, 67, 0.15);\n",
              "    fill: var(--button-hover-fill-color);\n",
              "  }\n",
              "\n",
              "  .colab-df-quickchart-complete:disabled,\n",
              "  .colab-df-quickchart-complete:disabled:hover {\n",
              "    background-color: var(--disabled-bg-color);\n",
              "    fill: var(--disabled-fill-color);\n",
              "    box-shadow: none;\n",
              "  }\n",
              "\n",
              "  .colab-df-spinner {\n",
              "    border: 2px solid var(--fill-color);\n",
              "    border-color: transparent;\n",
              "    border-bottom-color: var(--fill-color);\n",
              "    animation:\n",
              "      spin 1s steps(1) infinite;\n",
              "  }\n",
              "\n",
              "  @keyframes spin {\n",
              "    0% {\n",
              "      border-color: transparent;\n",
              "      border-bottom-color: var(--fill-color);\n",
              "      border-left-color: var(--fill-color);\n",
              "    }\n",
              "    20% {\n",
              "      border-color: transparent;\n",
              "      border-left-color: var(--fill-color);\n",
              "      border-top-color: var(--fill-color);\n",
              "    }\n",
              "    30% {\n",
              "      border-color: transparent;\n",
              "      border-left-color: var(--fill-color);\n",
              "      border-top-color: var(--fill-color);\n",
              "      border-right-color: var(--fill-color);\n",
              "    }\n",
              "    40% {\n",
              "      border-color: transparent;\n",
              "      border-right-color: var(--fill-color);\n",
              "      border-top-color: var(--fill-color);\n",
              "    }\n",
              "    60% {\n",
              "      border-color: transparent;\n",
              "      border-right-color: var(--fill-color);\n",
              "    }\n",
              "    80% {\n",
              "      border-color: transparent;\n",
              "      border-right-color: var(--fill-color);\n",
              "      border-bottom-color: var(--fill-color);\n",
              "    }\n",
              "    90% {\n",
              "      border-color: transparent;\n",
              "      border-bottom-color: var(--fill-color);\n",
              "    }\n",
              "  }\n",
              "</style>\n",
              "\n",
              "      <script>\n",
              "        async function quickchart(key) {\n",
              "          const quickchartButtonEl =\n",
              "            document.querySelector('#' + key + ' button');\n",
              "          quickchartButtonEl.disabled = true;  // To prevent multiple clicks.\n",
              "          quickchartButtonEl.classList.add('colab-df-spinner');\n",
              "          try {\n",
              "            const charts = await google.colab.kernel.invokeFunction(\n",
              "                'suggestCharts', [key], {});\n",
              "          } catch (error) {\n",
              "            console.error('Error during call to suggestCharts:', error);\n",
              "          }\n",
              "          quickchartButtonEl.classList.remove('colab-df-spinner');\n",
              "          quickchartButtonEl.classList.add('colab-df-quickchart-complete');\n",
              "        }\n",
              "        (() => {\n",
              "          let quickchartButtonEl =\n",
              "            document.querySelector('#df-0135f822-cd35-4504-b855-729a32d4b5ab button');\n",
              "          quickchartButtonEl.style.display =\n",
              "            google.colab.kernel.accessAllowed ? 'block' : 'none';\n",
              "        })();\n",
              "      </script>\n",
              "    </div>\n",
              "\n",
              "    </div>\n",
              "  </div>\n"
            ],
            "application/vnd.google.colaboratory.intrinsic+json": {
              "type": "dataframe",
              "variable_name": "df_data",
              "summary": "{\n  \"name\": \"df_data\",\n  \"rows\": 12990,\n  \"fields\": [\n    {\n      \"column\": \"page_id\",\n      \"properties\": {\n        \"dtype\": \"number\",\n        \"std\": 12444977,\n        \"min\": 15643,\n        \"max\": 80727747,\n        \"num_unique_values\": 76,\n        \"samples\": [\n          338451,\n          944729,\n          750961\n        ],\n        \"semantic_type\": \"\",\n        \"description\": \"\"\n      }\n    },\n    {\n      \"column\": \"title\",\n      \"properties\": {\n        \"dtype\": \"category\",\n        \"num_unique_values\": 73,\n        \"samples\": [\n          \"List of rivers of Zambia\",\n          \"Chokwe people\",\n          \"President of Zambia\"\n        ],\n        \"semantic_type\": \"\",\n        \"description\": \"\"\n      }\n    },\n    {\n      \"column\": \"rev_id\",\n      \"properties\": {\n        \"dtype\": \"number\",\n        \"std\": 402450733,\n        \"min\": 49095,\n        \"max\": 1309686802,\n        \"num_unique_values\": 12990,\n        \"samples\": [\n          1281114515,\n          578809964,\n          1107004618\n        ],\n        \"semantic_type\": \"\",\n        \"description\": \"\"\n      }\n    },\n    {\n      \"column\": \"timestamp\",\n      \"properties\": {\n        \"dtype\": \"object\",\n        \"num_unique_values\": 12983,\n        \"samples\": [\n          \"2006-10-11T10:44:33Z\",\n          \"2009-08-17T21:13:28Z\",\n          \"2015-05-14T16:05:48Z\"\n        ],\n        \"semantic_type\": \"\",\n        \"description\": \"\"\n      }\n    },\n    {\n      \"column\": \"contributor_id\",\n      \"properties\": {\n        \"dtype\": \"number\",\n        \"std\": null,\n        \"min\": null,\n        \"max\": null,\n        \"num_unique_values\": 0,\n        \"samples\": [],\n        \"semantic_type\": \"\",\n        \"description\": \"\"\n      }\n    },\n    {\n      \"column\": \"contributor_name\",\n      \"properties\": {\n        \"dtype\": \"category\",\n        \"num_unique_values\": 4846,\n        \"samples\": [],\n        \"semantic_type\": \"\",\n        \"description\": \"\"\n      }\n    },\n    {\n      \"column\": \"contributor_ip\",\n      \"properties\": {\n        \"dtype\": \"number\",\n        \"std\": null,\n        \"min\": null,\n        \"max\": null,\n        \"num_unique_values\": 0,\n        \"samples\": [],\n        \"semantic_type\": \"\",\n        \"description\": \"\"\n      }\n    },\n    {\n      \"column\": \"comment\",\n      \"properties\": {\n        \"dtype\": \"string\",\n        \"num_unique_values\": 6817,\n        \"samples\": [],\n        \"semantic_type\": \"\",\n        \"description\": \"\"\n      }\n    },\n    {\n      \"column\": \"minor\",\n      \"properties\": {\n        \"dtype\": \"boolean\",\n        \"num_unique_values\": 2,\n        \"samples\": [],\n        \"semantic_type\": \"\",\n        \"description\": \"\"\n      }\n    },\n    {\n      \"column\": \"text_length\",\n      \"properties\": {\n        \"dtype\": \"number\",\n        \"std\": 45331,\n        \"min\": 0,\n        \"max\": 236128,\n        \"num_unique_values\": 9968,\n        \"samples\": [],\n        \"semantic_type\": \"\",\n        \"description\": \"\"\n      }\n    }\n  ]\n}"
            }
          },
          "metadata": {},
          "execution_count": 122
        }
      ],
      "source": [
        "import pandas as pd\n",
        "\n",
        "# Load CSV\n",
        "file_path = \"/content/drive/MyDrive/Dataset/zambia_wikipedia_history.csv\"\n",
        "df = pd.read_csv(file_path)\n",
        "\n",
        "# We will work with a copy for the data understanding phase\n",
        "df_data = df.copy()\n",
        "\n",
        "# Preview dataset\n",
        "print(\"Dataset Shape:\", df_data.shape)\n",
        "df_data.head()"
      ]
    },
    {
      "cell_type": "markdown",
      "metadata": {
        "id": "NjYKIwlA_pML"
      },
      "source": [
        "- The dataset contains 12990 rows and 10 columns.\n",
        "\n",
        "- First look shows columns like: title, rev_id, timestamp, contributor, text_length.\n",
        "\n",
        "- Data seems to have both text and numeric attributes."
      ]
    },
    {
      "cell_type": "code",
      "execution_count": 123,
      "metadata": {
        "colab": {
          "base_uri": "https://localhost:8080/",
          "height": 744
        },
        "id": "yLZuGaxQItDQ",
        "outputId": "db39221b-30d6-4e73-f9aa-82780f59e124"
      },
      "outputs": [
        {
          "output_type": "stream",
          "name": "stdout",
          "text": [
            "<class 'pandas.core.frame.DataFrame'>\n",
            "RangeIndex: 12990 entries, 0 to 12989\n",
            "Data columns (total 10 columns):\n",
            " #   Column            Non-Null Count  Dtype  \n",
            "---  ------            --------------  -----  \n",
            " 0   page_id           12990 non-null  int64  \n",
            " 1   title             12990 non-null  object \n",
            " 2   rev_id            12990 non-null  int64  \n",
            " 3   timestamp         12990 non-null  object \n",
            " 4   contributor_id    0 non-null      float64\n",
            " 5   contributor_name  12990 non-null  object \n",
            " 6   contributor_ip    0 non-null      float64\n",
            " 7   comment           10726 non-null  object \n",
            " 8   minor             12990 non-null  bool   \n",
            " 9   text_length       12990 non-null  int64  \n",
            "dtypes: bool(1), float64(2), int64(3), object(4)\n",
            "memory usage: 926.2+ KB\n"
          ]
        },
        {
          "output_type": "execute_result",
          "data": {
            "text/plain": [
              "             page_id   title        rev_id             timestamp  \\\n",
              "count   1.299000e+04   12990  1.299000e+04                 12990   \n",
              "unique           NaN      73           NaN                 12983   \n",
              "top              NaN  Zambia           NaN  2022-07-17T04:33:46Z   \n",
              "freq             NaN    6150           NaN                     4   \n",
              "mean    4.229965e+06     NaN  6.008561e+08                   NaN   \n",
              "std     1.244498e+07     NaN  4.024507e+08                   NaN   \n",
              "min     1.564300e+04     NaN  4.909500e+04                   NaN   \n",
              "25%     3.441500e+04     NaN  2.313226e+08                   NaN   \n",
              "50%     3.442900e+04     NaN  5.674602e+08                   NaN   \n",
              "75%     1.472509e+06     NaN  9.617695e+08                   NaN   \n",
              "max     8.072775e+07     NaN  1.309687e+09                   NaN   \n",
              "\n",
              "        contributor_id                 contributor_name  contributor_ip  \\\n",
              "count              0.0                            12990             0.0   \n",
              "unique             NaN                             4846             NaN   \n",
              "top                NaN  User(id=43730508, text='Ezyg8')             NaN   \n",
              "freq               NaN                              687             NaN   \n",
              "mean               NaN                              NaN             NaN   \n",
              "std                NaN                              NaN             NaN   \n",
              "min                NaN                              NaN             NaN   \n",
              "25%                NaN                              NaN             NaN   \n",
              "50%                NaN                              NaN             NaN   \n",
              "75%                NaN                              NaN             NaN   \n",
              "max                NaN                              NaN             NaN   \n",
              "\n",
              "              comment  minor    text_length  \n",
              "count           10726  12990   12990.000000  \n",
              "unique           6817      2            NaN  \n",
              "top     /* History */  False            NaN  \n",
              "freq              266   9614            NaN  \n",
              "mean              NaN    NaN   49411.398691  \n",
              "std               NaN    NaN   45331.197140  \n",
              "min               NaN    NaN       0.000000  \n",
              "25%               NaN    NaN   15286.000000  \n",
              "50%               NaN    NaN   37797.500000  \n",
              "75%               NaN    NaN   70054.000000  \n",
              "max               NaN    NaN  236128.000000  "
            ],
            "text/html": [
              "\n",
              "  <div id=\"df-756ee214-7653-45e8-bdab-8e5c13523520\" class=\"colab-df-container\">\n",
              "    <div>\n",
              "<style scoped>\n",
              "    .dataframe tbody tr th:only-of-type {\n",
              "        vertical-align: middle;\n",
              "    }\n",
              "\n",
              "    .dataframe tbody tr th {\n",
              "        vertical-align: top;\n",
              "    }\n",
              "\n",
              "    .dataframe thead th {\n",
              "        text-align: right;\n",
              "    }\n",
              "</style>\n",
              "<table border=\"1\" class=\"dataframe\">\n",
              "  <thead>\n",
              "    <tr style=\"text-align: right;\">\n",
              "      <th></th>\n",
              "      <th>page_id</th>\n",
              "      <th>title</th>\n",
              "      <th>rev_id</th>\n",
              "      <th>timestamp</th>\n",
              "      <th>contributor_id</th>\n",
              "      <th>contributor_name</th>\n",
              "      <th>contributor_ip</th>\n",
              "      <th>comment</th>\n",
              "      <th>minor</th>\n",
              "      <th>text_length</th>\n",
              "    </tr>\n",
              "  </thead>\n",
              "  <tbody>\n",
              "    <tr>\n",
              "      <th>count</th>\n",
              "      <td>1.299000e+04</td>\n",
              "      <td>12990</td>\n",
              "      <td>1.299000e+04</td>\n",
              "      <td>12990</td>\n",
              "      <td>0.0</td>\n",
              "      <td>12990</td>\n",
              "      <td>0.0</td>\n",
              "      <td>10726</td>\n",
              "      <td>12990</td>\n",
              "      <td>12990.000000</td>\n",
              "    </tr>\n",
              "    <tr>\n",
              "      <th>unique</th>\n",
              "      <td>NaN</td>\n",
              "      <td>73</td>\n",
              "      <td>NaN</td>\n",
              "      <td>12983</td>\n",
              "      <td>NaN</td>\n",
              "      <td>4846</td>\n",
              "      <td>NaN</td>\n",
              "      <td>6817</td>\n",
              "      <td>2</td>\n",
              "      <td>NaN</td>\n",
              "    </tr>\n",
              "    <tr>\n",
              "      <th>top</th>\n",
              "      <td>NaN</td>\n",
              "      <td>Zambia</td>\n",
              "      <td>NaN</td>\n",
              "      <td>2022-07-17T04:33:46Z</td>\n",
              "      <td>NaN</td>\n",
              "      <td>User(id=43730508, text='Ezyg8')</td>\n",
              "      <td>NaN</td>\n",
              "      <td>/* History */</td>\n",
              "      <td>False</td>\n",
              "      <td>NaN</td>\n",
              "    </tr>\n",
              "    <tr>\n",
              "      <th>freq</th>\n",
              "      <td>NaN</td>\n",
              "      <td>6150</td>\n",
              "      <td>NaN</td>\n",
              "      <td>4</td>\n",
              "      <td>NaN</td>\n",
              "      <td>687</td>\n",
              "      <td>NaN</td>\n",
              "      <td>266</td>\n",
              "      <td>9614</td>\n",
              "      <td>NaN</td>\n",
              "    </tr>\n",
              "    <tr>\n",
              "      <th>mean</th>\n",
              "      <td>4.229965e+06</td>\n",
              "      <td>NaN</td>\n",
              "      <td>6.008561e+08</td>\n",
              "      <td>NaN</td>\n",
              "      <td>NaN</td>\n",
              "      <td>NaN</td>\n",
              "      <td>NaN</td>\n",
              "      <td>NaN</td>\n",
              "      <td>NaN</td>\n",
              "      <td>49411.398691</td>\n",
              "    </tr>\n",
              "    <tr>\n",
              "      <th>std</th>\n",
              "      <td>1.244498e+07</td>\n",
              "      <td>NaN</td>\n",
              "      <td>4.024507e+08</td>\n",
              "      <td>NaN</td>\n",
              "      <td>NaN</td>\n",
              "      <td>NaN</td>\n",
              "      <td>NaN</td>\n",
              "      <td>NaN</td>\n",
              "      <td>NaN</td>\n",
              "      <td>45331.197140</td>\n",
              "    </tr>\n",
              "    <tr>\n",
              "      <th>min</th>\n",
              "      <td>1.564300e+04</td>\n",
              "      <td>NaN</td>\n",
              "      <td>4.909500e+04</td>\n",
              "      <td>NaN</td>\n",
              "      <td>NaN</td>\n",
              "      <td>NaN</td>\n",
              "      <td>NaN</td>\n",
              "      <td>NaN</td>\n",
              "      <td>NaN</td>\n",
              "      <td>0.000000</td>\n",
              "    </tr>\n",
              "    <tr>\n",
              "      <th>25%</th>\n",
              "      <td>3.441500e+04</td>\n",
              "      <td>NaN</td>\n",
              "      <td>2.313226e+08</td>\n",
              "      <td>NaN</td>\n",
              "      <td>NaN</td>\n",
              "      <td>NaN</td>\n",
              "      <td>NaN</td>\n",
              "      <td>NaN</td>\n",
              "      <td>NaN</td>\n",
              "      <td>15286.000000</td>\n",
              "    </tr>\n",
              "    <tr>\n",
              "      <th>50%</th>\n",
              "      <td>3.442900e+04</td>\n",
              "      <td>NaN</td>\n",
              "      <td>5.674602e+08</td>\n",
              "      <td>NaN</td>\n",
              "      <td>NaN</td>\n",
              "      <td>NaN</td>\n",
              "      <td>NaN</td>\n",
              "      <td>NaN</td>\n",
              "      <td>NaN</td>\n",
              "      <td>37797.500000</td>\n",
              "    </tr>\n",
              "    <tr>\n",
              "      <th>75%</th>\n",
              "      <td>1.472509e+06</td>\n",
              "      <td>NaN</td>\n",
              "      <td>9.617695e+08</td>\n",
              "      <td>NaN</td>\n",
              "      <td>NaN</td>\n",
              "      <td>NaN</td>\n",
              "      <td>NaN</td>\n",
              "      <td>NaN</td>\n",
              "      <td>NaN</td>\n",
              "      <td>70054.000000</td>\n",
              "    </tr>\n",
              "    <tr>\n",
              "      <th>max</th>\n",
              "      <td>8.072775e+07</td>\n",
              "      <td>NaN</td>\n",
              "      <td>1.309687e+09</td>\n",
              "      <td>NaN</td>\n",
              "      <td>NaN</td>\n",
              "      <td>NaN</td>\n",
              "      <td>NaN</td>\n",
              "      <td>NaN</td>\n",
              "      <td>NaN</td>\n",
              "      <td>236128.000000</td>\n",
              "    </tr>\n",
              "  </tbody>\n",
              "</table>\n",
              "</div>\n",
              "    <div class=\"colab-df-buttons\">\n",
              "\n",
              "  <div class=\"colab-df-container\">\n",
              "    <button class=\"colab-df-convert\" onclick=\"convertToInteractive('df-756ee214-7653-45e8-bdab-8e5c13523520')\"\n",
              "            title=\"Convert this dataframe to an interactive table.\"\n",
              "            style=\"display:none;\">\n",
              "\n",
              "  <svg xmlns=\"http://www.w3.org/2000/svg\" height=\"24px\" viewBox=\"0 -960 960 960\">\n",
              "    <path d=\"M120-120v-720h720v720H120Zm60-500h600v-160H180v160Zm220 220h160v-160H400v160Zm0 220h160v-160H400v160ZM180-400h160v-160H180v160Zm440 0h160v-160H620v160ZM180-180h160v-160H180v160Zm440 0h160v-160H620v160Z\"/>\n",
              "  </svg>\n",
              "    </button>\n",
              "\n",
              "  <style>\n",
              "    .colab-df-container {\n",
              "      display:flex;\n",
              "      gap: 12px;\n",
              "    }\n",
              "\n",
              "    .colab-df-convert {\n",
              "      background-color: #E8F0FE;\n",
              "      border: none;\n",
              "      border-radius: 50%;\n",
              "      cursor: pointer;\n",
              "      display: none;\n",
              "      fill: #1967D2;\n",
              "      height: 32px;\n",
              "      padding: 0 0 0 0;\n",
              "      width: 32px;\n",
              "    }\n",
              "\n",
              "    .colab-df-convert:hover {\n",
              "      background-color: #E2EBFA;\n",
              "      box-shadow: 0px 1px 2px rgba(60, 64, 67, 0.3), 0px 1px 3px 1px rgba(60, 64, 67, 0.15);\n",
              "      fill: #174EA6;\n",
              "    }\n",
              "\n",
              "    .colab-df-buttons div {\n",
              "      margin-bottom: 4px;\n",
              "    }\n",
              "\n",
              "    [theme=dark] .colab-df-convert {\n",
              "      background-color: #3B4455;\n",
              "      fill: #D2E3FC;\n",
              "    }\n",
              "\n",
              "    [theme=dark] .colab-df-convert:hover {\n",
              "      background-color: #434B5C;\n",
              "      box-shadow: 0px 1px 3px 1px rgba(0, 0, 0, 0.15);\n",
              "      filter: drop-shadow(0px 1px 2px rgba(0, 0, 0, 0.3));\n",
              "      fill: #FFFFFF;\n",
              "    }\n",
              "  </style>\n",
              "\n",
              "    <script>\n",
              "      const buttonEl =\n",
              "        document.querySelector('#df-756ee214-7653-45e8-bdab-8e5c13523520 button.colab-df-convert');\n",
              "      buttonEl.style.display =\n",
              "        google.colab.kernel.accessAllowed ? 'block' : 'none';\n",
              "\n",
              "      async function convertToInteractive(key) {\n",
              "        const element = document.querySelector('#df-756ee214-7653-45e8-bdab-8e5c13523520');\n",
              "        const dataTable =\n",
              "          await google.colab.kernel.invokeFunction('convertToInteractive',\n",
              "                                                    [key], {});\n",
              "        if (!dataTable) return;\n",
              "\n",
              "        const docLinkHtml = 'Like what you see? Visit the ' +\n",
              "          '<a target=\"_blank\" href=https://colab.research.google.com/notebooks/data_table.ipynb>data table notebook</a>'\n",
              "          + ' to learn more about interactive tables.';\n",
              "        element.innerHTML = '';\n",
              "        dataTable['output_type'] = 'display_data';\n",
              "        await google.colab.output.renderOutput(dataTable, element);\n",
              "        const docLink = document.createElement('div');\n",
              "        docLink.innerHTML = docLinkHtml;\n",
              "        element.appendChild(docLink);\n",
              "      }\n",
              "    </script>\n",
              "  </div>\n",
              "\n",
              "\n",
              "    <div id=\"df-2cc8de21-d1e5-4c4d-8b9a-9182cb82e6fe\">\n",
              "      <button class=\"colab-df-quickchart\" onclick=\"quickchart('df-2cc8de21-d1e5-4c4d-8b9a-9182cb82e6fe')\"\n",
              "                title=\"Suggest charts\"\n",
              "                style=\"display:none;\">\n",
              "\n",
              "<svg xmlns=\"http://www.w3.org/2000/svg\" height=\"24px\"viewBox=\"0 0 24 24\"\n",
              "     width=\"24px\">\n",
              "    <g>\n",
              "        <path d=\"M19 3H5c-1.1 0-2 .9-2 2v14c0 1.1.9 2 2 2h14c1.1 0 2-.9 2-2V5c0-1.1-.9-2-2-2zM9 17H7v-7h2v7zm4 0h-2V7h2v10zm4 0h-2v-4h2v4z\"/>\n",
              "    </g>\n",
              "</svg>\n",
              "      </button>\n",
              "\n",
              "<style>\n",
              "  .colab-df-quickchart {\n",
              "      --bg-color: #E8F0FE;\n",
              "      --fill-color: #1967D2;\n",
              "      --hover-bg-color: #E2EBFA;\n",
              "      --hover-fill-color: #174EA6;\n",
              "      --disabled-fill-color: #AAA;\n",
              "      --disabled-bg-color: #DDD;\n",
              "  }\n",
              "\n",
              "  [theme=dark] .colab-df-quickchart {\n",
              "      --bg-color: #3B4455;\n",
              "      --fill-color: #D2E3FC;\n",
              "      --hover-bg-color: #434B5C;\n",
              "      --hover-fill-color: #FFFFFF;\n",
              "      --disabled-bg-color: #3B4455;\n",
              "      --disabled-fill-color: #666;\n",
              "  }\n",
              "\n",
              "  .colab-df-quickchart {\n",
              "    background-color: var(--bg-color);\n",
              "    border: none;\n",
              "    border-radius: 50%;\n",
              "    cursor: pointer;\n",
              "    display: none;\n",
              "    fill: var(--fill-color);\n",
              "    height: 32px;\n",
              "    padding: 0;\n",
              "    width: 32px;\n",
              "  }\n",
              "\n",
              "  .colab-df-quickchart:hover {\n",
              "    background-color: var(--hover-bg-color);\n",
              "    box-shadow: 0 1px 2px rgba(60, 64, 67, 0.3), 0 1px 3px 1px rgba(60, 64, 67, 0.15);\n",
              "    fill: var(--button-hover-fill-color);\n",
              "  }\n",
              "\n",
              "  .colab-df-quickchart-complete:disabled,\n",
              "  .colab-df-quickchart-complete:disabled:hover {\n",
              "    background-color: var(--disabled-bg-color);\n",
              "    fill: var(--disabled-fill-color);\n",
              "    box-shadow: none;\n",
              "  }\n",
              "\n",
              "  .colab-df-spinner {\n",
              "    border: 2px solid var(--fill-color);\n",
              "    border-color: transparent;\n",
              "    border-bottom-color: var(--fill-color);\n",
              "    animation:\n",
              "      spin 1s steps(1) infinite;\n",
              "  }\n",
              "\n",
              "  @keyframes spin {\n",
              "    0% {\n",
              "      border-color: transparent;\n",
              "      border-bottom-color: var(--fill-color);\n",
              "      border-left-color: var(--fill-color);\n",
              "    }\n",
              "    20% {\n",
              "      border-color: transparent;\n",
              "      border-left-color: var(--fill-color);\n",
              "      border-top-color: var(--fill-color);\n",
              "    }\n",
              "    30% {\n",
              "      border-color: transparent;\n",
              "      border-left-color: var(--fill-color);\n",
              "      border-top-color: var(--fill-color);\n",
              "      border-right-color: var(--fill-color);\n",
              "    }\n",
              "    40% {\n",
              "      border-color: transparent;\n",
              "      border-right-color: var(--fill-color);\n",
              "      border-top-color: var(--fill-color);\n",
              "    }\n",
              "    60% {\n",
              "      border-color: transparent;\n",
              "      border-right-color: var(--fill-color);\n",
              "    }\n",
              "    80% {\n",
              "      border-color: transparent;\n",
              "      border-right-color: var(--fill-color);\n",
              "      border-bottom-color: var(--fill-color);\n",
              "    }\n",
              "    90% {\n",
              "      border-color: transparent;\n",
              "      border-bottom-color: var(--fill-color);\n",
              "    }\n",
              "  }\n",
              "</style>\n",
              "\n",
              "      <script>\n",
              "        async function quickchart(key) {\n",
              "          const quickchartButtonEl =\n",
              "            document.querySelector('#' + key + ' button');\n",
              "          quickchartButtonEl.disabled = true;  // To prevent multiple clicks.\n",
              "          quickchartButtonEl.classList.add('colab-df-spinner');\n",
              "          try {\n",
              "            const charts = await google.colab.kernel.invokeFunction(\n",
              "                'suggestCharts', [key], {});\n",
              "          } catch (error) {\n",
              "            console.error('Error during call to suggestCharts:', error);\n",
              "          }\n",
              "          quickchartButtonEl.classList.remove('colab-df-spinner');\n",
              "          quickchartButtonEl.classList.add('colab-df-quickchart-complete');\n",
              "        }\n",
              "        (() => {\n",
              "          let quickchartButtonEl =\n",
              "            document.querySelector('#df-2cc8de21-d1e5-4c4d-8b9a-9182cb82e6fe button');\n",
              "          quickchartButtonEl.style.display =\n",
              "            google.colab.kernel.accessAllowed ? 'block' : 'none';\n",
              "        })();\n",
              "      </script>\n",
              "    </div>\n",
              "\n",
              "    </div>\n",
              "  </div>\n"
            ],
            "application/vnd.google.colaboratory.intrinsic+json": {
              "type": "dataframe",
              "summary": "{\n  \"name\": \"df_data\",\n  \"rows\": 11,\n  \"fields\": [\n    {\n      \"column\": \"page_id\",\n      \"properties\": {\n        \"dtype\": \"number\",\n        \"std\": 27947556.66063129,\n        \"min\": 12990.0,\n        \"max\": 80727747.0,\n        \"num_unique_values\": 8,\n        \"samples\": [\n          4229964.721093149,\n          34429.0,\n          12990.0\n        ],\n        \"semantic_type\": \"\",\n        \"description\": \"\"\n      }\n    },\n    {\n      \"column\": \"title\",\n      \"properties\": {\n        \"dtype\": \"category\",\n        \"num_unique_values\": 4,\n        \"samples\": [\n          73,\n          \"6150\",\n          \"12990\"\n        ],\n        \"semantic_type\": \"\",\n        \"description\": \"\"\n      }\n    },\n    {\n      \"column\": \"rev_id\",\n      \"properties\": {\n        \"dtype\": \"number\",\n        \"std\": 457401149.50572586,\n        \"min\": 12990.0,\n        \"max\": 1309686802.0,\n        \"num_unique_values\": 8,\n        \"samples\": [\n          600856099.9157814,\n          567460205.0,\n          12990.0\n        ],\n        \"semantic_type\": \"\",\n        \"description\": \"\"\n      }\n    },\n    {\n      \"column\": \"timestamp\",\n      \"properties\": {\n        \"dtype\": \"category\",\n        \"num_unique_values\": 4,\n        \"samples\": [\n          12983,\n          \"4\",\n          \"12990\"\n        ],\n        \"semantic_type\": \"\",\n        \"description\": \"\"\n      }\n    },\n    {\n      \"column\": \"contributor_id\",\n      \"properties\": {\n        \"dtype\": \"number\",\n        \"std\": null,\n        \"min\": 0.0,\n        \"max\": 0.0,\n        \"num_unique_values\": 1,\n        \"samples\": [\n          0.0\n        ],\n        \"semantic_type\": \"\",\n        \"description\": \"\"\n      }\n    },\n    {\n      \"column\": \"contributor_name\",\n      \"properties\": {\n        \"dtype\": \"category\",\n        \"num_unique_values\": 4,\n        \"samples\": [\n          4846\n        ],\n        \"semantic_type\": \"\",\n        \"description\": \"\"\n      }\n    },\n    {\n      \"column\": \"contributor_ip\",\n      \"properties\": {\n        \"dtype\": \"number\",\n        \"std\": null,\n        \"min\": 0.0,\n        \"max\": 0.0,\n        \"num_unique_values\": 1,\n        \"samples\": [\n          0.0\n        ],\n        \"semantic_type\": \"\",\n        \"description\": \"\"\n      }\n    },\n    {\n      \"column\": \"comment\",\n      \"properties\": {\n        \"dtype\": \"category\",\n        \"num_unique_values\": 4,\n        \"samples\": [\n          6817\n        ],\n        \"semantic_type\": \"\",\n        \"description\": \"\"\n      }\n    },\n    {\n      \"column\": \"minor\",\n      \"properties\": {\n        \"dtype\": \"category\",\n        \"num_unique_values\": 4,\n        \"samples\": [\n          2\n        ],\n        \"semantic_type\": \"\",\n        \"description\": \"\"\n      }\n    },\n    {\n      \"column\": \"text_length\",\n      \"properties\": {\n        \"dtype\": \"number\",\n        \"std\": 75337.85736672286,\n        \"min\": 0.0,\n        \"max\": 236128.0,\n        \"num_unique_values\": 8,\n        \"samples\": [\n          49411.398691301\n        ],\n        \"semantic_type\": \"\",\n        \"description\": \"\"\n      }\n    }\n  ]\n}"
            }
          },
          "metadata": {},
          "execution_count": 123
        }
      ],
      "source": [
        "# [DU] Lawrence — Dataset Info and Descriptive Statistics\n",
        "\n",
        "# Show dataset structure\n",
        "df_data.info()\n",
        "\n",
        "# Show summary statistics\n",
        "df_data.describe(include=\"all\")\n"
      ]
    },
    {
      "cell_type": "markdown",
      "metadata": {
        "id": "cKkEMVufIxjt"
      },
      "source": [
        "- The dataset contains **12990 rows** and **10 columns**.  \n",
        "- The **`contributor_id`** and **`contributor_ip`** columns have **100% missing values** (no records available).  \n",
        "- The **`timestamp`** column is stored as an object type and needs conversion to datetime for proper time-based analysis.  \n",
        "- The **`text_length`** column is complete for all entries and shows variation in article sizes.  \n",
        "- Some columns, such as **`comment`** and **`contributor_name`**, have high cardinality (many unique values).  \n"
      ]
    },
    {
      "cell_type": "code",
      "execution_count": 124,
      "metadata": {
        "colab": {
          "base_uri": "https://localhost:8080/",
          "height": 978
        },
        "id": "qs8l7PxxEPUe",
        "outputId": "b032c74e-86f8-44f0-cb20-77d8847d86aa"
      },
      "outputs": [
        {
          "output_type": "display_data",
          "data": {
            "text/plain": [
              "<Figure size 800x500 with 1 Axes>"
            ],
            "image/png": "[encoded data removed]"
          },
          "metadata": {}
        },
        {
          "output_type": "display_data",
          "data": {
            "text/plain": [
              "<Figure size 800x500 with 1 Axes>"
            ],
            "image/png": "[encoded data removed]"
          },
          "metadata": {}
        }
      ],
      "source": [
        "# [DU] Mike - Numerical Visualizations\n",
        "import matplotlib.pyplot as plt\n",
        "\n",
        "# Convert timestamp to datetime\n",
        "df_data[\"timestamp\"] = pd.to_datetime(df_data[\"timestamp\"], errors=\"coerce\")\n",
        "\n",
        "# Histogram of text length\n",
        "plt.figure(figsize=(8,5))\n",
        "df[\"text_length\"].hist(bins=50)\n",
        "plt.title(\"Distribution of Article Text Length\")\n",
        "plt.xlabel(\"Text Length\")\n",
        "plt.ylabel(\"Frequency\")\n",
        "plt.show()\n",
        "\n",
        "# Revisions by year\n",
        "plt.figure(figsize=(8,5))\n",
        "df_data[\"timestamp\"].dt.year.value_counts().sort_index().plot(kind=\"bar\")\n",
        "plt.title(\"Number of Revisions by Year\")\n",
        "plt.xlabel(\"Year\")\n",
        "plt.ylabel(\"Revision Count\")\n",
        "plt.show()"
      ]
    },
    {
      "cell_type": "markdown",
      "metadata": {
        "id": "BT6X3DsoEYhS"
      },
      "source": [
        "* Article text lengths are heavily right-skewed; the bulk of articles are relatively short, concentrated below roughly 50k characters, with frequency tapering off as length increases.\n",
        "* Revision activity shows two waves: the highest peak is in the mid-2000s (around 2007), with a secondary surge in 2020-2023 (notably 2022).\n",
        "* The distribution has a long right tail with clear outliers, including some articles exceeding 200k characters.\n"
      ]
    },
    {
      "cell_type": "code",
      "execution_count": 125,
      "metadata": {
        "colab": {
          "base_uri": "https://localhost:8080/",
          "height": 992
        },
        "id": "EPnslnlXMkXf",
        "outputId": "b3769ad0-b9b7-4e2b-9efc-3a3d296e49da"
      },
      "outputs": [
        {
          "output_type": "display_data",
          "data": {
            "text/plain": [
              "<Figure size 1000x500 with 1 Axes>"
            ],
            "image/png": "[encoded data removed]"
          },
          "metadata": {}
        },
        {
          "output_type": "display_data",
          "data": {
            "text/plain": [
              "<Figure size 500x500 with 1 Axes>"
            ],
            "image/png": "[encoded data removed]"
          },
          "metadata": {}
        },
        {
          "output_type": "stream",
          "name": "stdout",
          "text": [
            "Top contributor is Ezyg8 with 687 revisions\n",
            "Anonymous contributors account for 26.5% of all edits\n"
          ]
        }
      ],
      "source": [
        "# [DU] Chilufya - Contributor Analysis\n",
        "\n",
        "def get_user_text(s):\n",
        "    # Extract what's inside text='...'\n",
        "    if isinstance(s, str) and \"text='\" in s:\n",
        "        return s.split(\"text='\", 1)[1].split(\"'\", 1)[0]\n",
        "    return None\n",
        "\n",
        "def is_ipv4_like(s):\n",
        "    # Require exactly four numeric parts separated by dots\n",
        "    if not isinstance(s, str):\n",
        "        return False\n",
        "    parts = s.split('.')\n",
        "    if len(parts) != 4:\n",
        "        return False\n",
        "    return all(p.isdigit() for p in parts)\n",
        "\n",
        "# Extract a readable contributor label\n",
        "df_data['user_text'] = df_data['contributor_name'].apply(get_user_text)\n",
        "\n",
        "# Anonymous if id=None appears OR the extracted text is IPv4-like\n",
        "df_data['is_anonymous'] = (\n",
        "    df_data['contributor_name'].apply(lambda s: isinstance(s, str) and \"id=None\" in s) |\n",
        "    df_data['user_text'].apply(is_ipv4_like)\n",
        ")\n",
        "\n",
        "# Top 10 contributors\n",
        "top_contributors = df_data['user_text'].dropna().value_counts().head(10)\n",
        "\n",
        "plt.figure(figsize=(10, 5))\n",
        "top_contributors.plot(kind=\"bar\")\n",
        "plt.title(\"Top 10 most active contributors\")\n",
        "plt.xlabel(\"Contributor\")\n",
        "plt.ylabel(\"Number of Revisions\")\n",
        "plt.tight_layout()\n",
        "plt.show()\n",
        "\n",
        "# --- Registered vs Anonymous contributors ---\n",
        "anon_counts = (\n",
        "    df_data['is_anonymous']\n",
        "      .map({False: \"Registered\", True: \"Anonymous\"})\n",
        "      .value_counts()\n",
        "      .reindex([\"Registered\", \"Anonymous\"], fill_value=0)\n",
        ")\n",
        "\n",
        "plt.figure(figsize=(5, 5))\n",
        "anon_counts.plot(kind=\"bar\")\n",
        "plt.title(\"Registered vs Anonymous contributions\")\n",
        "plt.xlabel(\"\")\n",
        "plt.ylabel(\"Number of Revisions\")\n",
        "plt.tight_layout()\n",
        "plt.show()\n",
        "\n",
        "# Print required statistics\n",
        "top_contributor_name = top_contributors.index[0]\n",
        "top_contributor_count = top_contributors.iloc[0]\n",
        "anonymous_percentage = df_data['is_anonymous'].mean() * 100\n",
        "\n",
        "print(f\"Top contributor is {top_contributor_name} with {top_contributor_count} revisions\")\n",
        "print(f\"Anonymous contributors account for {anonymous_percentage:.1f}% of all edits\")"
      ]
    },
    {
      "cell_type": "markdown",
      "metadata": {
        "id": "K7r40H6pMqJZ"
      },
      "source": [
        "* Top contributor is Ezy98 with just under 700 revisions.\n",
        "* Anonymous contributors account for roughly a quarter of all edits (~25-30%); registered users make up the majority.\n",
        "* Editing is concentrated among a small group: Ezy98 far outpaces others (the next, Helenonline, has ~280), with most of the remaining top contributors around 100-160 revisions."
      ]
    },
    {
      "cell_type": "code",
      "execution_count": 126,
      "metadata": {
        "colab": {
          "base_uri": "https://localhost:8080/",
          "height": 1000
        },
        "id": "mEBscnanABBi",
        "outputId": "589a1eb6-43ec-43b0-c1de-a0acb5d5c8cb"
      },
      "outputs": [
        {
          "output_type": "display_data",
          "data": {
            "text/plain": [
              "<Figure size 1000x600 with 1 Axes>"
            ],
            "image/png": "[encoded data removed]"
          },
          "metadata": {}
        },
        {
          "output_type": "display_data",
          "data": {
            "text/plain": [
              "<Figure size 800x500 with 1 Axes>"
            ],
            "image/png": "[encoded data removed]"
          },
          "metadata": {}
        },
        {
          "output_type": "display_data",
          "data": {
            "text/plain": [
              "<Figure size 1000x600 with 1 Axes>"
            ],
            "image/png": "[encoded data removed]"
          },
          "metadata": {}
        }
      ],
      "source": [
        "# [DU] Michael  - Summary of Data Understanding\n",
        "\n",
        "# 1. Top 10 contributors (by number of edits)\n",
        "top_contributors = df_data['user_text'].dropna().value_counts().head(10)\n",
        "\n",
        "plt.figure(figsize=(10,6))\n",
        "top_contributors.plot(kind=\"bar\", color=\"skyblue\")\n",
        "plt.title(\"Top 10 Contributors to Zambian Wikipedia Pages\")\n",
        "plt.xlabel(\"Contributor\")\n",
        "plt.ylabel(\"Number of Edits\")\n",
        "plt.xticks(rotation=45, ha=\"right\")\n",
        "plt.tight_layout()\n",
        "plt.show()\n",
        "\n",
        "\n",
        "# 2. Distribution of text length (histogram)\n",
        "plt.figure(figsize=(8,5))\n",
        "df_data[\"text_length\"].hist(bins=50, color=\"orange\")\n",
        "plt.title(\"Distribution of Article Text Lengths\")\n",
        "plt.xlabel(\"Text Length (characters)\")\n",
        "plt.ylabel(\"Number of Revisions\")\n",
        "plt.tight_layout()\n",
        "plt.show()\n",
        "\n",
        "\n",
        "# 3. Edits over time (timeline)\n",
        "df_data[\"timestamp\"] = pd.to_datetime(df_data[\"timestamp\"], errors=\"coerce\")\n",
        "edits_per_year = df_data[\"timestamp\"].dt.year.value_counts().sort_index()\n",
        "\n",
        "plt.figure(figsize=(10,6))\n",
        "edits_per_year.plot(kind=\"line\", marker=\"o\")\n",
        "plt.title(\"Number of Edits Per Year on Zambian Wikipedia Pages\")\n",
        "plt.xlabel(\"Year\")\n",
        "plt.ylabel(\"Edits\")\n",
        "plt.grid(True)\n",
        "plt.tight_layout()\n",
        "plt.show()"
      ]
    },
    {
      "cell_type": "markdown",
      "metadata": {
        "id": "MHh1qopTANuI"
      },
      "source": [
        "## Summary of Data Understanding\n",
        "* Dataset size : 12990 Rows and 10 Columns\n",
        "* Missing data: contributor field has many missing/unknown values.\n",
        "* Numerical insights: Article text lengths are heavily right-skewed; most revisions are on pages under ~60k characters, with a long tail and outliers beyond 200k.\n",
        "* Temporal insights: Two major activity waves — peak around 2006-2007 (highest ~950-980 edits) and another surge in 2020-2022 (peaking ~900), with dips around 2014-2015 and in 2024-2025.\n",
        "* Categorical insights: Editing is concentrated among a small set of accounts. Ezy98 leads with just under 700 edits; HelenOnline is next (~280); others in the top 10 contribute ~100–160 each. Bot accounts (e.g., ClueBot NG, InternetArchiveBot) appear among the top contributors.\n",
        "* Potential issues: strong right‑skew and outliers in text length, temporal imbalance across years, heavy contributor concentration (and bot influence), and incomplete contributor metadata.\n",
        "\n",
        "Next Steps:\n",
        "* Clean contributor field (resolve anonymous/unknown users).\n",
        "* Engineer new features (year of revision, registered vs anonymous).\n",
        "* Explore external data sources to infer country of origin from contributor metadata (not available\n",
        "directly)."
      ]
    },
    {
      "cell_type": "markdown",
      "metadata": {
        "id": "zG0bjay1v1dm"
      },
      "source": [
        "#  **3. Data Preparation**"
      ]
    },
    {
      "cell_type": "markdown",
      "metadata": {
        "id": "XyvAG8Ki7PFh"
      },
      "source": [
        " The contributor_ip column is entirely null and provides no value,\n",
        "so it can be removed. Missing comments can be treated as empty strings to\n",
        "ensure consistency without losing any rows of data.\n"
      ]
    },
    {
      "cell_type": "code",
      "execution_count": 127,
      "metadata": {
        "colab": {
          "base_uri": "https://localhost:8080/"
        },
        "id": "PqXDtnzJ7R3n",
        "outputId": "959df906-e0e1-4dba-b0a5-196f1647b693"
      },
      "outputs": [
        {
          "output_type": "stream",
          "name": "stdout",
          "text": [
            "Columns after dropping 'contributor_ip': Index(['page_id', 'title', 'rev_id', 'timestamp', 'contributor_name',\n",
            "       'comment', 'minor', 'text_length'],\n",
            "      dtype='object')\n",
            "\n",
            "Null values in 'comment' column after filling: 0\n"
          ]
        },
        {
          "output_type": "stream",
          "name": "stderr",
          "text": [
            "/tmp/ipython-input-1925558925.py:5: FutureWarning: A value is trying to be set on a copy of a DataFrame or Series through chained assignment using an inplace method.\n",
            "The behavior will change in pandas 3.0. This inplace method will never work because the intermediate object on which we are setting values always behaves as a copy.\n",
            "\n",
            "For example, when doing 'df[col].method(value, inplace=True)', try using 'df.method({col: value}, inplace=True)' or df[col] = df[col].method(value) instead, to perform the operation inplace on the original object.\n",
            "\n",
            "\n",
            "  df['comment'].fillna('', inplace=True)\n"
          ]
        }
      ],
      "source": [
        " # Drop the empty 'contributor_ip' and ‘contributor_id’ columns\n",
        " df.drop(columns=['contributor_ip'], inplace=True)\n",
        " df.drop(columns=['contributor_id'], inplace=True)\n",
        " # Fill missing values in the 'comment' column with an empty string\n",
        " df['comment'].fillna('', inplace=True)\n",
        " print(\"Columns after dropping 'contributor_ip':\", df.columns)\n",
        " print(\"\\nNull values in 'comment' column after filling:\", df['comment'].isnull().sum())"
      ]
    },
    {
      "cell_type": "markdown",
      "metadata": {
        "id": "FqT_PTHZ9ZEw"
      },
      "source": [
        "Converting timestamp to a datetime object is essential for\n",
        "performing time-series analysis and extracting features like the hour of the day The minor column should be a boolean (True/False) instead of a string forefficiency and compatibility with machine learning models."
      ]
    },
    {
      "cell_type": "code",
      "execution_count": 128,
      "metadata": {
        "colab": {
          "base_uri": "https://localhost:8080/"
        },
        "id": "McM_OdF39p5v",
        "outputId": "47093e36-d395-4d8e-b82c-64cb54b9c845"
      },
      "outputs": [
        {
          "output_type": "stream",
          "name": "stdout",
          "text": [
            "Data type of 'timestamp' column: datetime64[ns, UTC]\n",
            "Data type of 'minor' column: bool\n"
          ]
        }
      ],
      "source": [
        " # Convert 'timestamp' to datetime objects\n",
        " df['timestamp'] = pd.to_datetime(df['timestamp'])\n",
        " # Convert 'minor' from string to boolean\n",
        " df['minor'] = df['minor'].apply(lambda x: True if x == 'TRUE' else False)\n",
        " print(\"Data type of 'timestamp' column:\", df['timestamp'].dtype)\n",
        " print(\"Data type of 'minor' column:\", df['minor'].dtype)"
      ]
    },
    {
      "cell_type": "markdown",
      "metadata": {
        "id": "W0wUSyGfFsFW"
      },
      "source": [
        "The time of an edit can be a strong indicator of the contributor's\n",
        "timezone. Analyzing patterns in edit times (e.g., edits during Zambian\n",
        "business hours) can help in our classification goal"
      ]
    },
    {
      "cell_type": "code",
      "execution_count": 129,
      "metadata": {
        "colab": {
          "base_uri": "https://localhost:8080/"
        },
        "id": "itAOCkwtFvTL",
        "outputId": "f46dd959-9a07-4fc2-ff76-c2bd06876743"
      },
      "outputs": [
        {
          "output_type": "stream",
          "name": "stdout",
          "text": [
            "                  timestamp  edit_hour  edit_day_of_week\n",
            "0 2005-10-31 08:48:31+00:00          8                 0\n",
            "1 2005-11-05 06:07:50+00:00          6                 5\n",
            "2 2006-02-14 12:33:52+00:00         12                 1\n",
            "3 2006-02-14 15:58:40+00:00         15                 1\n",
            "4 2006-02-14 16:17:15+00:00         16                 1\n"
          ]
        }
      ],
      "source": [
        "# Convert timestamp column to datetime\n",
        "df['timestamp'] = pd.to_datetime(df['timestamp'], errors='coerce')\n",
        "\n",
        "# Now extract hour and day of week\n",
        "df['edit_hour'] = df['timestamp'].dt.hour\n",
        "df['edit_day_of_week'] = df['timestamp'].dt.dayofweek\n",
        "\n",
        "print(df[['timestamp', 'edit_hour', 'edit_day_of_week']].head())\n"
      ]
    },
    {
      "cell_type": "markdown",
      "metadata": {
        "id": "6neF-uazG6CN"
      },
      "source": [
        "Many edits are automated and not representative of human\n",
        "contributors. Identifying these allows us to filter them out or treat them as a\n",
        "distinct category, preventing them from skewing our model."
      ]
    },
    {
      "cell_type": "code",
      "execution_count": 130,
      "metadata": {
        "colab": {
          "base_uri": "https://localhost:8080/"
        },
        "id": "zIhnIrpPG-QY",
        "outputId": "9667b2cc-c3ec-4a3f-fd59-160ed79a1cc9"
      },
      "outputs": [
        {
          "output_type": "stream",
          "name": "stdout",
          "text": [
            "Number of bot edits identified: 1386\n",
            "                                              comment\n",
            "6                 Robot: Adding [[African countries]]\n",
            "9   robot  Adding: am, az, bs, el, fa, ilo, ka, ku...\n",
            "10                      robot  Adding: [[vo:SambÃ¤n]]\n",
            "11       robot  Adding: [[ast:Zambia]], [[qu:Sambya]]\n",
            "12                   robot  Modifying: [[qu:Sambiya]]\n"
          ]
        }
      ],
      "source": [
        " # Identify bot edits based on comment text\n",
        " bot_keywords = ['robot', 'bot', 'awb']\n",
        "\n",
        "df['is_bot_edit'] = df['comment'].fillna('').str.lower().apply(\n",
        "    lambda x: any(keyword in x for keyword in bot_keywords)\n",
        ")\n",
        "print(\"Number of bot edits identified:\", df['is_bot_edit'].sum())\n",
        "print(df[df['is_bot_edit']][['comment']].head())"
      ]
    },
    {
      "cell_type": "markdown",
      "metadata": {
        "id": "Gt0b7_B1TJf3"
      },
      "source": [
        "Distinguishing between registered users and anonymous IP-based users is vital because IP addresses can potentially be geolocated, providing a direct signal for our origin classification model. So we are going to write a function to parse the contributor_name string to determine if\n",
        "the user is anonymous (IP-based) or registered, and to extract their clean\n",
        "username or IP address. We will create two new columns: is_ip_user and\n",
        "clean_contributor_name."
      ]
    },
    {
      "cell_type": "code",
      "execution_count": 131,
      "metadata": {
        "colab": {
          "base_uri": "https://localhost:8080/"
        },
        "id": "wuWr3zmtTMcB",
        "outputId": "29dc2454-2704-4911-8ab3-bdb4b9527698"
      },
      "outputs": [
        {
          "output_type": "stream",
          "name": "stdout",
          "text": [
            "                       contributor_name  is_ip_user clean_contributor_name\n",
            "0        User(id=1734, text='Ianleow7')       False               Ianleow7\n",
            "1      User(id=1110, text='Ricky81682')       False             Ricky81682\n",
            "2  User(id=None, text='81.204.151.102')        True         81.204.151.102\n",
            "3         User(id=2131, text='Archer7')       False                Archer7\n",
            "4      User(id=2077, text='Freshstart')       False             Freshstart\n"
          ]
        }
      ],
      "source": [
        "import re\n",
        "\n",
        "def parse_contributor(name_str):\n",
        "  # Regex to find IP addresses\n",
        "  ip_match = re.search(r\"text='([\\d\\.:a-fA-F]+)'\", str(name_str))\n",
        "  if ip_match:\n",
        "    return True, ip_match.group(1)\n",
        "\n",
        "  # Regex for registered usernames\n",
        "  user_match = re.search(r\"text='([^']+)'\", str(name_str))\n",
        "  if user_match:\n",
        "    return False, user_match.group(1)\n",
        "\n",
        "  return False, None\n",
        "\n",
        "# Apply the function to the dataframe\n",
        "parsed_data = df['contributor_name'].apply(parse_contributor)\n",
        "df['is_ip_user'] = parsed_data.apply(lambda x: x[0])\n",
        "df['clean_contributor_name'] = parsed_data.apply(lambda x: x[1])\n",
        "print(df[['contributor_name', 'is_ip_user', 'clean_contributor_name']].head())"
      ]
    },
    {
      "cell_type": "markdown",
      "metadata": {
        "id": "xVVplKS0ZmTI"
      },
      "source": [
        "The raw text_length only shows the size of the article after an edit.\n",
        "The change in length is a much better feature, as it quantifies the contribution of a specific edit, distinguishing minor typo fixes from major content additions."
      ]
    },
    {
      "cell_type": "code",
      "execution_count": 132,
      "metadata": {
        "colab": {
          "base_uri": "https://localhost:8080/"
        },
        "id": "1nO_T_ItaI1i",
        "outputId": "f6f768d8-a6c8-44be-d923-5a9d00b47ea6"
      },
      "outputs": [
        {
          "output_type": "stream",
          "name": "stdout",
          "text": [
            "    title                 timestamp  text_length  text_length_change\n",
            "0  Zambia 2005-10-31 08:48:31+00:00         1617              1617.0\n",
            "1  Zambia 2005-11-05 06:07:50+00:00         1577               -40.0\n",
            "2  Zambia 2006-02-14 12:33:52+00:00         2211               634.0\n",
            "3  Zambia 2006-02-14 15:58:40+00:00         2219                 8.0\n",
            "4  Zambia 2006-02-14 16:17:15+00:00         2273                54.0\n"
          ]
        }
      ],
      "source": [
        "\n",
        "# Sort data to ensure correct chronological order for diff calculation\n",
        "df.sort_values(by=['page_id', 'timestamp'], inplace=True)\n",
        "\n",
        "# Calculate the difference in text length from the previous revision of the same page\n",
        "df['text_length_change'] = df.groupby('page_id')['text_length'].diff().fillna(df['text_length'])\n",
        "\n",
        "print(df[['title', 'timestamp', 'text_length', 'text_length_change']].head())"
      ]
    },
    {
      "cell_type": "markdown",
      "metadata": {
        "id": "6eCj8kY1QqBy"
      },
      "source": [
        "Machine learning models require numerical inputs, so converting\n",
        "boolean flags to binary integers is a standard and necessary step"
      ]
    },
    {
      "cell_type": "code",
      "execution_count": 133,
      "metadata": {
        "colab": {
          "base_uri": "https://localhost:8080/"
        },
        "id": "REbSM16bQsja",
        "outputId": "9a661d43-1ea0-4014-847c-cc317bdf70d7"
      },
      "outputs": [
        {
          "output_type": "stream",
          "name": "stdout",
          "text": [
            "   minor  is_ip_user  is_bot_edit\n",
            "0      0           0            0\n",
            "1      0           0            0\n",
            "2      0           1            0\n",
            "3      0           0            0\n",
            "4      0           0            0\n"
          ]
        }
      ],
      "source": [
        "# Convert boolean columns to integers (0 or 1)\n",
        "bool_cols = ['minor', 'is_ip_user', 'is_bot_edit']\n",
        "for col in bool_cols:\n",
        "  df[col] = df[col].astype(int)\n",
        "\n",
        "print(df[bool_cols].head())"
      ]
    },
    {
      "cell_type": "markdown",
      "metadata": {
        "id": "dOG92L1hRoXZ"
      },
      "source": [
        "The title column contains page names, which are categorical. Onehot\n",
        "encoding creates new binary columns for each page, allowing the model to\n",
        "use this information without assuming a false sense of order or ranking\n",
        "between the pages."
      ]
    },
    {
      "cell_type": "code",
      "execution_count": 134,
      "metadata": {
        "colab": {
          "base_uri": "https://localhost:8080/"
        },
        "id": "ZsxaspK1RpRb",
        "outputId": "1a72b716-6412-4ab8-98cd-fe09e2cb533d"
      },
      "outputs": [
        {
          "output_type": "stream",
          "name": "stdout",
          "text": [
            "Shape of the prepared dataframe: (12990, 86)\n",
            "New 'page' columns: ['page_id', 'page_2021 Zambian general election', 'page_A history of Zambia', 'page_Abolition of Forced Labour Convention', 'page_Abuja Treaty', \"page_African Charter on Human and Peoples' Rights\", 'page_African Charter on the Rights and Welfare of the Child', 'page_African Convention on the Conservation of Nature and Natural Resources', 'page_Angolans in Zambia', 'page_Bangweulu Batwa', 'page_Bank of Zambia', 'page_British diaspora in Africa', 'page_COVID-19 pandemic in Zambia', 'page_Central Province, Zambia', 'page_Chalo Chatu', 'page_Childbirth in Zambia', 'page_Chitimukulu', 'page_Chokwe people', 'page_Corruption in Zambia', 'page_Demographics of Zambia', 'page_Disability in Zambia', 'page_Eastern Lunda', 'page_Eastern Province, Zambia', 'page_Economy of Zambia', 'page_First Lady of Zambia', 'page_Flag of Zambia', 'page_Football Association of Zambia', 'page_History of Zambia', 'page_Human interactions with insects in southern Africa', 'page_ISO 3166-2:ZM', 'page_Jean Jacques Corbeil', 'page_Kabwe Conference, 1985', 'page_Land reform in Zambia', 'page_List of Presidents of Zambia', 'page_List of Speakers of the National Assembly of Zambia', 'page_List of Zambian provinces by Human Development Index', 'page_List of cities and towns in Zambia', 'page_List of companies of Zambia', 'page_List of presidents of Zambia', 'page_List of rivers of Zambia', 'page_List of rulers of Zambia', 'page_Livingstone, Zambia', 'page_National Assembly (Zambia)', 'page_National Assembly of Zambia', 'page_North-Western Province, Zambia', 'page_Northern Province, Zambia', 'page_Outline of Zambia', 'page_Patriotic Front (Zambia)', 'page_Portal:Zambia', 'page_President of Zambia', 'page_Prime Minister of Zambia', 'page_Provinces of Zambia', 'page_Provincial minister (Zambia)', 'page_Republic of Zambia', 'page_Southern Province, Zambia', 'page_Speaker of the National Assembly of Zambia', 'page_Stand and Sing of Zambia, Proud and Free', 'page_The Post (Zambia)', 'page_Tonga language (Zambia)', 'page_Vice President of Zambia', 'page_Vice-President of Zambia', 'page_Western Province, Zambia', 'page_Zambia', 'page_Zambia National Service', 'page_Zambia at the Olympics', 'page_Zambia national basketball team', 'page_Zambia national football team', 'page_Zambia national futsal team', 'page_Zambia national netball team', 'page_Zambia national rugby union team', 'page_Zambia national under-20 football team', \"page_Zambia women's national basketball team\", \"page_Zambia women's national football team\", \"page_Zambia women's national under-17 football team\"]\n"
          ]
        }
      ],
      "source": [
        "# Perform one-hot encoding on the 'title' column\n",
        "title_dummies = pd.get_dummies(df['title'], prefix='page')\n",
        "# Concatenate the new dummy variables with the original dataframe\n",
        "df_prepared = pd.concat([df, title_dummies], axis=1)\n",
        "# We can now drop the original 'title' column as it has been encoded\n",
        "df_prepared.drop('title', axis=1, inplace=True)\n",
        "print(\"Shape of the prepared dataframe:\", df_prepared.shape)\n",
        "print(\"New 'page' columns:\", [col for col in df_prepared.columns if 'page_' in col])"
      ]
    },
    {
      "cell_type": "markdown",
      "metadata": {
        "id": "AKKbXcSDeYI3"
      },
      "source": [
        "# **4. Modeling**\n",
        "\n",
        "In this phase, we build a model to classify edits as Zambian or non-Zambian. We will use our labeled data (from IPs and user pages) to train a supervised learning algorithm. The process involves preparing the data, splitting it for training and testing, and then training the model."
      ]
    },
    {
      "cell_type": "markdown",
      "metadata": {
        "id": "EBeqkv0HfTJm"
      },
      "source": [
        "Our modeling strategy begins with the most direct evidence available: the IP addresses of anonymous editors. This first model is a Direct Geolocation Classifier. We will apply this model to all anonymous, human-edited revisions in our dataset. This will form the first layer of our unified inferred_country column. A critical initial step is to filter out all bot edits to ensure we are only analyzing human behavior."
      ]
    },
    {
      "cell_type": "code",
      "execution_count": 135,
      "metadata": {
        "colab": {
          "base_uri": "https://localhost:8080/"
        },
        "id": "QJWzKXt8fVov",
        "outputId": "7a602e6e-048b-4404-fa17-158156457862"
      },
      "outputs": [
        {
          "output_type": "stream",
          "name": "stdout",
          "text": [
            "Requirement already satisfied: geoip2 in /usr/local/lib/python3.12/dist-packages (5.1.0)\n",
            "Requirement already satisfied: aiohttp<4.0.0,>=3.6.2 in /usr/local/lib/python3.12/dist-packages (from geoip2) (3.12.15)\n",
            "Requirement already satisfied: maxminddb<3.0.0,>=2.7.0 in /usr/local/lib/python3.12/dist-packages (from geoip2) (2.8.2)\n",
            "Requirement already satisfied: requests<3.0.0,>=2.24.0 in /usr/local/lib/python3.12/dist-packages (from geoip2) (2.32.4)\n",
            "Requirement already satisfied: aiohappyeyeballs>=2.5.0 in /usr/local/lib/python3.12/dist-packages (from aiohttp<4.0.0,>=3.6.2->geoip2) (2.6.1)\n",
            "Requirement already satisfied: aiosignal>=1.4.0 in /usr/local/lib/python3.12/dist-packages (from aiohttp<4.0.0,>=3.6.2->geoip2) (1.4.0)\n",
            "Requirement already satisfied: attrs>=17.3.0 in /usr/local/lib/python3.12/dist-packages (from aiohttp<4.0.0,>=3.6.2->geoip2) (25.3.0)\n",
            "Requirement already satisfied: frozenlist>=1.1.1 in /usr/local/lib/python3.12/dist-packages (from aiohttp<4.0.0,>=3.6.2->geoip2) (1.7.0)\n",
            "Requirement already satisfied: multidict<7.0,>=4.5 in /usr/local/lib/python3.12/dist-packages (from aiohttp<4.0.0,>=3.6.2->geoip2) (6.6.4)\n",
            "Requirement already satisfied: propcache>=0.2.0 in /usr/local/lib/python3.12/dist-packages (from aiohttp<4.0.0,>=3.6.2->geoip2) (0.3.2)\n",
            "Requirement already satisfied: yarl<2.0,>=1.17.0 in /usr/local/lib/python3.12/dist-packages (from aiohttp<4.0.0,>=3.6.2->geoip2) (1.20.1)\n",
            "Requirement already satisfied: charset_normalizer<4,>=2 in /usr/local/lib/python3.12/dist-packages (from requests<3.0.0,>=2.24.0->geoip2) (3.4.3)\n",
            "Requirement already satisfied: idna<4,>=2.5 in /usr/local/lib/python3.12/dist-packages (from requests<3.0.0,>=2.24.0->geoip2) (3.10)\n",
            "Requirement already satisfied: urllib3<3,>=1.21.1 in /usr/local/lib/python3.12/dist-packages (from requests<3.0.0,>=2.24.0->geoip2) (2.5.0)\n",
            "Requirement already satisfied: certifi>=2017.4.17 in /usr/local/lib/python3.12/dist-packages (from requests<3.0.0,>=2.24.0->geoip2) (2025.8.3)\n",
            "Requirement already satisfied: typing-extensions>=4.2 in /usr/local/lib/python3.12/dist-packages (from aiosignal>=1.4.0->aiohttp<4.0.0,>=3.6.2->geoip2) (4.15.0)\n",
            "Applying Geolocation Model to Anonymous Users\n",
            "Successfully loaded GeoIP database from: /content/drive/MyDrive/Dataset/GeoLite2-Country.mmdb\n",
            "Filtered out bot edits. Total human edits to analyze: 11604\n"
          ]
        },
        {
          "output_type": "stream",
          "name": "stderr",
          "text": [
            "100%|██████████| 3454/3454 [00:00<00:00, 19970.15it/s]"
          ]
        },
        {
          "output_type": "stream",
          "name": "stdout",
          "text": [
            "\n",
            "Found 21 users with 'Lookup Failed'. Removing them.\n",
            "Removal complete.\n",
            "\n",
            "Local geolocation complete. Classified 3433 anonymous users.\n",
            "GeoIP database reader closed.\n"
          ]
        },
        {
          "output_type": "stream",
          "name": "stderr",
          "text": [
            "\n"
          ]
        }
      ],
      "source": [
        "!pip install geoip2\n",
        "print(\"Applying Geolocation Model to Anonymous Users\")\n",
        "\n",
        "import geoip2.database\n",
        "from tqdm import tqdm\n",
        "tqdm.pandas()\n",
        "\n",
        "# --- Part 1: Load the local GeoIP database ---\n",
        "db_path = '/content/drive/MyDrive/Dataset/GeoLite2-Country.mmdb'\n",
        "reader = None\n",
        "\n",
        "try:\n",
        "    reader = geoip2.database.Reader(db_path)\n",
        "    print(f\"Successfully loaded GeoIP database from: {db_path}\")\n",
        "except FileNotFoundError:\n",
        "    print(f\"FATAL ERROR: The GeoIP database file was not found at '{db_path}'.\")\n",
        "    # Handle the error as needed, e.g., exit()\n",
        "\n",
        "def get_country_from_ip_local(ip, reader):\n",
        "    \"\"\"\n",
        "    Looks up an IP in the local GeoIP database. Returns country name on success,\n",
        "    or 'Lookup Failed' if any error occurs.\n",
        "    \"\"\"\n",
        "    try:\n",
        "        # Attempt to get the country from the database.\n",
        "        response = reader.country(ip)\n",
        "        return response.country.name\n",
        "    except Exception:\n",
        "        # If ANY error happens, return a generic failure message.\n",
        "        return 'Lookup Failed'\n",
        "\n",
        "if reader:\n",
        "    human_edits_df = df_prepared[df_prepared['is_bot_edit'] == 0].copy()\n",
        "    print(f\"Filtered out bot edits. Total human edits to analyze: {len(human_edits_df)}\")\n",
        "\n",
        "    human_edits_df['inferred_country'] = None\n",
        "    anonymous_mask = (human_edits_df['is_ip_user'] == 1)\n",
        "\n",
        "    # Apply the simple function. The logic here doesn't change.\n",
        "    human_edits_df.loc[anonymous_mask, 'inferred_country'] = human_edits_df.loc[anonymous_mask, 'clean_contributor_name'].progress_apply(\n",
        "        lambda ip: get_country_from_ip_local(ip, reader)\n",
        "    )\n",
        "\n",
        "    # Count how many failed\n",
        "    failed_count = (human_edits_df['inferred_country'] == 'Lookup Failed').sum()\n",
        "    print(f\"\\nFound {failed_count} users with 'Lookup Failed'. Removing them.\")\n",
        "\n",
        "    # The one-liner to remove the rows\n",
        "    human_edits_df = human_edits_df[human_edits_df['inferred_country'] != 'Lookup Failed'].copy()\n",
        "\n",
        "    print(\"Removal complete.\")\n",
        "\n",
        "    print(f\"\\nLocal geolocation complete. Classified {human_edits_df['inferred_country'].notna().sum()} anonymous users.\")\n",
        "\n",
        "    # --- Part 4: Close the database reader ---\n",
        "    reader.close()\n",
        "    print(\"GeoIP database reader closed.\")"
      ]
    },
    {
      "cell_type": "markdown",
      "metadata": {
        "id": "pg_zwjjUqd-X"
      },
      "source": [
        " The second stage of our model targets registered users. Many users self-declare their\n",
        "location on their personal 'User Page' on Wikipedia. We will build a User Page Scraper that\n",
        "uses the Wikipedia API to fetch and analyze the content of these pages for location keywords\n",
        "(e.g., 'from Zambia', 'lives in Lusaka'). This model will fill in the inferred_country for\n",
        "registered users where this direct evidence is available.\n"
      ]
    },
    {
      "cell_type": "code",
      "execution_count": 136,
      "metadata": {
        "colab": {
          "base_uri": "https://localhost:8080/"
        },
        "id": "YaKgBVGsqhHf",
        "outputId": "5746778b-bd67-4dd3-de1d-86e57621d97a"
      },
      "outputs": [
        {
          "output_type": "stream",
          "name": "stdout",
          "text": [
            "Applying User Page Scraper to Registered Users\n",
            "Requirement already satisfied: wikipedia-api in /usr/local/lib/python3.12/dist-packages (0.8.1)\n",
            "Requirement already satisfied: requests in /usr/local/lib/python3.12/dist-packages (from wikipedia-api) (2.32.4)\n",
            "Requirement already satisfied: charset_normalizer<4,>=2 in /usr/local/lib/python3.12/dist-packages (from requests->wikipedia-api) (3.4.3)\n",
            "Requirement already satisfied: idna<4,>=2.5 in /usr/local/lib/python3.12/dist-packages (from requests->wikipedia-api) (3.10)\n",
            "Requirement already satisfied: urllib3<3,>=1.21.1 in /usr/local/lib/python3.12/dist-packages (from requests->wikipedia-api) (2.5.0)\n",
            "Requirement already satisfied: certifi>=2017.4.17 in /usr/local/lib/python3.12/dist-packages (from requests->wikipedia-api) (2025.8.3)\n",
            "Scraping user pages for 2419 unique registered users...\n"
          ]
        },
        {
          "output_type": "stream",
          "name": "stderr",
          "text": [
            "100%|██████████| 2419/2419 [01:21<00:00, 29.60it/s]"
          ]
        },
        {
          "output_type": "stream",
          "name": "stdout",
          "text": [
            "\n",
            "User page scraping complete. Total classified users is now: 3816\n"
          ]
        },
        {
          "output_type": "stream",
          "name": "stderr",
          "text": [
            "\n"
          ]
        }
      ],
      "source": [
        "# Model for Registered Users with Declared Location\n",
        "print(\"Applying User Page Scraper to Registered Users\")\n",
        "\n",
        "# Install library for Wikipedia API access\n",
        "!pip install wikipedia-api\n",
        "\n",
        "import wikipediaapi\n",
        "from concurrent.futures import ThreadPoolExecutor, as_completed\n",
        "import re\n",
        "\n",
        "# Initialize the API with a custom user agent\n",
        "wiki_api = wikipediaapi.Wikipedia('project_team_14', 'en')\n",
        "\n",
        "def get_country_from_userpage(username):\n",
        "    # Fetch the user page\n",
        "    user_page = wiki_api.page(f\"User:{username}\")\n",
        "    if not user_page.exists():\n",
        "        return None\n",
        "    # Simple regex to find mentions of Zambia and return the full name\n",
        "    if re.search(r'\\b(Zambia|Lusaka|Kitwe|Ndola|Kabwe|Livingstone|Chipata|Solwezi|Mongu)\\b', user_page.text, re.IGNORECASE):\n",
        "        return 'Zambia'\n",
        "    return None\n",
        "\n",
        "# Apply this scraper ONLY to registered users who do NOT yet have an inferred country\n",
        "registered_mask = (human_edits_df['is_ip_user'] == 0) & (human_edits_df['inferred_country'].isna())\n",
        "users_to_scrape = human_edits_df.loc[registered_mask, 'clean_contributor_name'].unique()\n",
        "\n",
        "print(f\"Scraping user pages for {len(users_to_scrape)} unique registered users...\")\n",
        "\n",
        "# Run requests in parallel\n",
        "user_country_map = {}\n",
        "with ThreadPoolExecutor(max_workers=5) as executor:\n",
        "    futures = {executor.submit(get_country_from_userpage, user): user for user in users_to_scrape}\n",
        "    for future in tqdm(as_completed(futures), total=len(futures)):\n",
        "        user = futures[future]\n",
        "        result = future.result()\n",
        "        if result:\n",
        "            user_country_map[user] = result\n",
        "\n",
        "# Apply this mapping to our main DataFrame\n",
        "human_edits_df['inferred_country'] = human_edits_df['inferred_country'].fillna(human_edits_df['clean_contributor_name'].map(user_country_map))\n",
        "\n",
        "print(f\"\\nUser page scraping complete. Total classified users is now: {human_edits_df['inferred_country'].notna().sum()}\")"
      ]
    },
    {
      "cell_type": "markdown",
      "metadata": {
        "id": "Onn7G7P429in"
      },
      "source": [
        "First, we prepare the data for the model. We filter for only the labeled edits and then define our **features (X)**—the input variables like `edit_hour`—and our **target (y)**—the output `is_zambian` column that we want to predict."
      ]
    },
    {
      "cell_type": "code",
      "execution_count": 137,
      "metadata": {
        "colab": {
          "base_uri": "https://localhost:8080/"
        },
        "id": "iXJqKsxN3FvH",
        "outputId": "af450c9d-b0ba-408e-9f6c-d7e1938d29da"
      },
      "outputs": [
        {
          "output_type": "stream",
          "name": "stdout",
          "text": [
            "--- Preparing Data for Modeling ---\n",
            "Class distribution in the labeled dataset:\n",
            "is_zambian\n",
            "0    0.839099\n",
            "1    0.160901\n",
            "Name: proportion, dtype: float64\n",
            "\n",
            "Data preparation complete. Defined X (features shape: (3816, 6)) and y (target shape: (3816,)).\n"
          ]
        }
      ],
      "source": [
        "# Preparing Data for Supervised Learning\n",
        "\n",
        "print(\"--- Preparing Data for Modeling ---\")\n",
        "\n",
        "# Create the dataset for training.\n",
        "# We can only train a model on the data we have already labeled (from IPs and user pages).\n",
        "train_df = human_edits_df[human_edits_df['inferred_country'].notna()].copy()\n",
        "\n",
        "# Create the binary target variable 'is_zambian'.\n",
        "# The model needs a simple numerical target to predict: 1 for Zambian, 0 for not Zambian.\n",
        "train_df['is_zambian'] = (train_df['inferred_country'] == 'Zambia').astype(int)\n",
        "\n",
        "print(\"Class distribution in the labeled dataset:\")\n",
        "print(train_df['is_zambian'].value_counts(normalize=True))\n",
        "\n",
        "# Define the features (X) and the target (y).\n",
        "# We select the behavioral features we engineered earlier.\n",
        "# The model will use these features to predict the target.\n",
        "feature_cols = [\n",
        "    'minor',\n",
        "    'text_length',\n",
        "    'edit_hour',\n",
        "    'edit_day_of_week',\n",
        "    'is_ip_user',\n",
        "    'text_length_change'\n",
        "]\n",
        "\n",
        "X = train_df[feature_cols]\n",
        "y = train_df['is_zambian']\n",
        "\n",
        "print(f\"\\nData preparation complete. Defined X (features shape: {X.shape}) and y (target shape: {y.shape}).\")\n"
      ]
    },
    {
      "cell_type": "markdown",
      "metadata": {
        "id": "zzXpLehYc9Yt"
      },
      "source": [
        "To properly evaluate our model, we split the data into two parts: an **80% training set** for the model to learn from, and a **20% testing set** to test its performance on unseen data. This prevents the model from simply memorizing the answers and gives us an unbiased performance score."
      ]
    },
    {
      "cell_type": "code",
      "execution_count": 138,
      "metadata": {
        "colab": {
          "base_uri": "https://localhost:8080/"
        },
        "id": "z_fPG1b-dSqO",
        "outputId": "0c4df260-a9eb-4568-b219-7cd31c51bc29"
      },
      "outputs": [
        {
          "output_type": "stream",
          "name": "stdout",
          "text": [
            "--- Splitting the Data ---\n",
            "Data successfully split.\n",
            "Training set has 3052 samples.\n",
            "Testing set has 764 samples.\n"
          ]
        }
      ],
      "source": [
        "# Splitting Data for Training and Testing\n",
        "\n",
        "from sklearn.model_selection import train_test_split\n",
        "\n",
        "print(\"--- Splitting the Data ---\")\n",
        "\n",
        "X_train, X_test, y_train, y_test = train_test_split(\n",
        "    X, y,\n",
        "    test_size=0.2,\n",
        "    random_state=42,\n",
        "    stratify=y\n",
        ")\n",
        "\n",
        "print(f\"Data successfully split.\")\n",
        "print(f\"Training set has {X_train.shape[0]} samples.\")\n",
        "print(f\"Testing set has {X_test.shape[0]} samples.\")\n"
      ]
    },
    {
      "cell_type": "markdown",
      "metadata": {
        "id": "YNX322G6Wvmo"
      },
      "source": [
        "We are choosing a **Decision Tree Classifier** because it is highly interpretable meaning we can inspect its rules to understand how it makes decisions. This directly supports our business goal of gaining actionable insights. It also handles our mix of data types well without needing extra preprocessing like scaling."
      ]
    },
    {
      "cell_type": "code",
      "execution_count": 139,
      "metadata": {
        "colab": {
          "base_uri": "https://localhost:8080/"
        },
        "id": "rKHEo7JxW5JH",
        "outputId": "0b4480ed-fb48-4368-e09f-28bb2191f6cc"
      },
      "outputs": [
        {
          "output_type": "stream",
          "name": "stdout",
          "text": [
            "--- Selecting and Training the Model ---\n",
            "\n",
            "Decision Tree model has been successfully trained on the training data.\n"
          ]
        }
      ],
      "source": [
        "# Model Selection and Training\n",
        "\n",
        "from sklearn.tree import DecisionTreeClassifier\n",
        "\n",
        "print(\"--- Selecting and Training the Model ---\")\n",
        "\n",
        "# Explanation of Algorithm Choice:\n",
        "\n",
        "# Initialize the model.\n",
        "dt_model = DecisionTreeClassifier(random_state=42)\n",
        "\n",
        "# Step 2: Train the model.\n",
        "dt_model.fit(X_train, y_train)\n",
        "\n",
        "print(\"\\nDecision Tree model has been successfully trained on the training data.\")\n"
      ]
    },
    {
      "cell_type": "markdown",
      "metadata": {
        "id": "s0fVozal16Id"
      },
      "source": [
        "For the second model, we will **remove `is_ip_user`** from our list of features (`X2`). This forces our new model to base its predictions solely on behavioral patterns like edit time and text size."
      ]
    },
    {
      "cell_type": "code",
      "execution_count": 140,
      "metadata": {
        "colab": {
          "base_uri": "https://localhost:8080/"
        },
        "id": "yi9kwhlL3APM",
        "outputId": "14815c3d-0154-439a-bebd-9f1d1416d758"
      },
      "outputs": [
        {
          "output_type": "stream",
          "name": "stdout",
          "text": [
            "--- Preparing Data for Improved Modeling ---\n",
            "Data preparation complete. The model will now train on 5 behavioral features only.\n",
            "Features being used: ['minor', 'text_length', 'edit_hour', 'edit_day_of_week', 'text_length_change']\n"
          ]
        }
      ],
      "source": [
        "# Preparing Data with Refined Features\n",
        "\n",
        "print(\"--- Preparing Data for Improved Modeling ---\")\n",
        "\n",
        "# We use 'train_df2' and 'is_zambian' target as before.\n",
        "train_df2 = human_edits_df[human_edits_df['inferred_country'].notna()].copy()\n",
        "train_df2['is_zambian'] = (train_df2['inferred_country'] == 'Zambia').astype(int)\n",
        "\n",
        "feature_cols2 = [\n",
        "    'minor',\n",
        "    'text_length',\n",
        "    'edit_hour',\n",
        "    'edit_day_of_week',\n",
        "    'text_length_change'\n",
        "]\n",
        "\n",
        "X2 = train_df2[feature_cols2]\n",
        "y2 = train_df2['is_zambian']\n",
        "\n",
        "print(f\"Data preparation complete. The model will now train on {len(feature_cols2)} behavioral features only.\")\n",
        "print(\"Features being used:\", feature_cols2)"
      ]
    },
    {
      "cell_type": "markdown",
      "metadata": {
        "id": "iBOm5CjS35s_"
      },
      "source": [
        "As before, we must split our data into training and testing sets. This step is unchanged but remains essential for ensuring we have an unbiased method to evaluate our new model's performance on data it has never seen. We will maintain the 80/20 split and use stratification to preserve the class balance."
      ]
    },
    {
      "cell_type": "code",
      "execution_count": 141,
      "metadata": {
        "colab": {
          "base_uri": "https://localhost:8080/"
        },
        "id": "bi_FZFZT4Ydd",
        "outputId": "59607f3b-c086-4b9f-c94b-2bd5dc599c3c"
      },
      "outputs": [
        {
          "output_type": "stream",
          "name": "stdout",
          "text": [
            "--- Splitting the Refined Data ---\n",
            "Data successfully split.\n",
            "Training set has 3052 samples.\n",
            "Testing set has 764 samples.\n"
          ]
        }
      ],
      "source": [
        "# Splitting Data for Training and Testing\n",
        "\n",
        "from sklearn.model_selection import train_test_split\n",
        "\n",
        "print(\"--- Splitting the Refined Data ---\")\n",
        "\n",
        "X2_train, X2_test, y2_train, y2_test = train_test_split(\n",
        "    X2, y2,\n",
        "    test_size=0.2,\n",
        "    random_state=42,\n",
        "    stratify=y\n",
        ")\n",
        "\n",
        "print(f\"Data successfully split.\")\n",
        "print(f\"Training set has {X2_train.shape[0]} samples.\")\n",
        "print(f\"Testing set has {X2_test.shape[0]} samples.\")"
      ]
    },
    {
      "cell_type": "markdown",
      "metadata": {
        "id": "A0mvdxOH5O9j"
      },
      "source": [
        "To overcome the limitations of a single Decision Tree, we are now using a **Random Forest Classifier**. This is an \"ensemble\" algorithm that builds a large number of individual decision trees and combines their predictions. This approach is more robust because it averages out the biases of individual trees and is far less likely to be influenced by a single feature. This should result in a model that generalizes better and provides more reliable predictions across all user types."
      ]
    },
    {
      "cell_type": "code",
      "execution_count": 142,
      "metadata": {
        "colab": {
          "base_uri": "https://localhost:8080/"
        },
        "id": "oEU1gMoY5mCO",
        "outputId": "fa317dbd-6a2c-42f1-b071-1208f76ceaef"
      },
      "outputs": [
        {
          "output_type": "stream",
          "name": "stdout",
          "text": [
            "--- Selecting and Training the Random Forest Model ---\n",
            "\n",
            "Random Forest model has been successfully trained.\n"
          ]
        }
      ],
      "source": [
        "# Training a Random Forest Model\n",
        "\n",
        "from sklearn.ensemble import RandomForestClassifier\n",
        "\n",
        "print(\"--- Selecting and Training the Random Forest Model ---\")\n",
        "\n",
        "rf_model = RandomForestClassifier(n_estimators=100, random_state=42, n_jobs=-1)\n",
        "\n",
        "# Step 2: Train the model on the same training data.\n",
        "# The model will learn from the behavioral features to predict the 'is_zambian' target.\n",
        "rf_model.fit(X2_train, y2_train)\n",
        "\n",
        "print(\"\\nRandom Forest model has been successfully trained.\")"
      ]
    },
    {
      "cell_type": "markdown",
      "metadata": {
        "id": "HkHO6k5hafOK"
      },
      "source": [
        "# **5. Evaluation**"
      ]
    },
    {
      "cell_type": "markdown",
      "metadata": {
        "id": "nfwA_G8oarKb"
      },
      "source": [
        "The first step in evaluation is to use our trained model (`dt_model`) to make predictions on the test data (`X_test`). The model has never seen this data before. The output, `y_pred`, will be a series of 0s and 1s representing the model's guess for each edit in the test set. This prediction array is the foundation for all subsequent evaluation tasks."
      ]
    },
    {
      "cell_type": "code",
      "execution_count": 143,
      "metadata": {
        "colab": {
          "base_uri": "https://localhost:8080/"
        },
        "id": "aEhCnrDQawOW",
        "outputId": "580b0b15-be4a-4a2b-beaa-ab6a368476dd"
      },
      "outputs": [
        {
          "output_type": "stream",
          "name": "stdout",
          "text": [
            "--- Generating predictions on the unseen test data ---\n",
            "Predictions generated for all 764 samples in the test set.\n",
            "The first 10 predictions are: [1 0 0 0 0 0 0 0 1 0]\n",
            "The first 10 actual labels are: [1 0 0 0 0 0 0 0 1 0]\n"
          ]
        }
      ],
      "source": [
        "# Making Predictions on the Test Set\n",
        "\n",
        "print(\"--- Generating predictions on the unseen test data ---\")\n",
        "\n",
        "# Use the trained model's .predict() method on the test features\n",
        "y_pred = dt_model.predict(X_test)\n",
        "\n",
        "print(f\"Predictions generated for all {len(y_test)} samples in the test set.\")\n",
        "print(\"The first 10 predictions are:\", y_pred[:10])\n",
        "print(\"The first 10 actual labels are:\", y_test.values[:10])"
      ]
    },
    {
      "cell_type": "markdown",
      "metadata": {
        "id": "YBq9aavCf6ni"
      },
      "source": [
        "With the predictions (`y_pred`), we can now quantify the model's performance. Our primary metric, as defined in the project's success criteria, is **accuracy**. We will also generate a **classification report**, which provides a deeper look at performance by showing the precision, recall, and F1-score for both the \"Zambian\" and \"non-Zambian\" classes.\n"
      ]
    },
    {
      "cell_type": "code",
      "execution_count": 144,
      "metadata": {
        "colab": {
          "base_uri": "https://localhost:8080/"
        },
        "id": "a6UC7uoDgaVX",
        "outputId": "074ffbbc-a020-4acf-e713-c62dde41ee28"
      },
      "outputs": [
        {
          "output_type": "stream",
          "name": "stdout",
          "text": [
            "--- Calculating core performance metrics ---\n",
            "Model Accuracy on Test Set: 93.59%\n",
            "SUCCESS: The model meets the project's 80% accuracy criterion.\n",
            "\n",
            "--- Classification Report ---\n",
            "                 precision    recall  f1-score   support\n",
            "\n",
            "Non-Zambian (0)       0.96      0.97      0.96       641\n",
            "    Zambian (1)       0.82      0.77      0.79       123\n",
            "\n",
            "       accuracy                           0.94       764\n",
            "      macro avg       0.89      0.87      0.88       764\n",
            "   weighted avg       0.93      0.94      0.94       764\n",
            "\n"
          ]
        }
      ],
      "source": [
        "# Calculating Core Performance Metrics\n",
        "\n",
        "from sklearn.metrics import accuracy_score, classification_report\n",
        "\n",
        "print(\"--- Calculating core performance metrics ---\")\n",
        "\n",
        "# Calculate overall accuracy\n",
        "accuracy = accuracy_score(y_test, y_pred)\n",
        "print(f\"Model Accuracy on Test Set: {accuracy:.2%}\")\n",
        "\n",
        "# Check against our success criterion\n",
        "if accuracy >= 0.80:\n",
        "    print(\"SUCCESS: The model meets the project's 80% accuracy criterion.\")\n",
        "else:\n",
        "    print(\"NOTE: The model has not yet met the 80% accuracy criterion.\")\n",
        "\n",
        "# Generate the detailed classification report\n",
        "print(\"\\n--- Classification Report ---\")\n",
        "# 'target_names' makes the report easier to read\n",
        "print(classification_report(y_test, y_pred, target_names=['Non-Zambian (0)', 'Zambian (1)']))\n"
      ]
    },
    {
      "cell_type": "markdown",
      "metadata": {
        "id": "5Qj0v4nmz9DP"
      },
      "source": [
        "While metrics give us numbers, a **confusion matrix** helps us visualize *where* the model is making mistakes. It breaks down the predictions into four categories: True Positives, True Negatives, False Positives, and False Negatives. This visualization makes it easy to see if the model is biased towards one class or if it struggles with a particular type of prediction."
      ]
    },
    {
      "cell_type": "code",
      "execution_count": 145,
      "metadata": {
        "colab": {
          "base_uri": "https://localhost:8080/",
          "height": 581
        },
        "id": "JmJ_h2zW0K-Z",
        "outputId": "7e2f654a-f6ab-48bd-89ec-e9af0511672c"
      },
      "outputs": [
        {
          "output_type": "stream",
          "name": "stdout",
          "text": [
            "--- Visualizing model errors with a confusion matrix ---\n"
          ]
        },
        {
          "output_type": "display_data",
          "data": {
            "text/plain": [
              "<Figure size 800x600 with 2 Axes>"
            ],
            "image/png": "[encoded data removed]"
          },
          "metadata": {}
        }
      ],
      "source": [
        "# Visualizing Model Errors\n",
        "\n",
        "from sklearn.metrics import confusion_matrix\n",
        "import seaborn as sns\n",
        "import matplotlib.pyplot as plt\n",
        "\n",
        "print(\"--- Visualizing model errors with a confusion matrix ---\")\n",
        "\n",
        "# Generate the confusion matrix\n",
        "cm = confusion_matrix(y_test, y_pred)\n",
        "\n",
        "# Plot the confusion matrix as a heatmap\n",
        "plt.figure(figsize=(8, 6))\n",
        "sns.heatmap(cm, annot=True, fmt='d', cmap='Blues',\n",
        "            xticklabels=['Predicted Non-Zambian', 'Predicted Zambian'],\n",
        "            yticklabels=['Actual Non-Zambian', 'Actual Zambian'])\n",
        "plt.title('Confusion Matrix')\n",
        "plt.ylabel('Actual Label')\n",
        "plt.xlabel('Predicted Label')\n",
        "plt.show()"
      ]
    },
    {
      "cell_type": "markdown",
      "metadata": {
        "id": "0Ddvyb2N-R2c"
      },
      "source": [
        "Beyond knowing *how* the model performed, we want to know *why*. Because we used a Decision Tree, we can inspect its **feature importances**. This tells us which features the model relied on most heavily to make its decisions. This is crucial for gaining the \"actionable insights\" our project aims for and for confirming if our hypotheses (e.g., about `edit_hour`) were correct."
      ]
    },
    {
      "cell_type": "code",
      "execution_count": 146,
      "metadata": {
        "colab": {
          "base_uri": "https://localhost:8080/",
          "height": 576
        },
        "id": "ALhaed7h-1U1",
        "outputId": "56713a5a-7884-461b-8607-f2abe7b98914"
      },
      "outputs": [
        {
          "output_type": "stream",
          "name": "stdout",
          "text": [
            "--- Interpreting model decisions via feature importance ---\n"
          ]
        },
        {
          "output_type": "display_data",
          "data": {
            "text/plain": [
              "<Figure size 1000x600 with 1 Axes>"
            ],
            "image/png": "[encoded data removed]"
          },
          "metadata": {}
        }
      ],
      "source": [
        "# Interpreting Model Logic with Feature Importance\n",
        "\n",
        "print(\"--- Interpreting model decisions via feature importance ---\")\n",
        "\n",
        "# Extract feature importances from the trained model\n",
        "importances = dt_model.feature_importances_\n",
        "\n",
        "# Create a DataFrame for easy plotting\n",
        "feature_importance_df = pd.DataFrame({\n",
        "    'feature': feature_cols,\n",
        "    'importance': importances\n",
        "}).sort_values('importance', ascending=False)\n",
        "\n",
        "# Plot the feature importances\n",
        "plt.figure(figsize=(10, 6))\n",
        "plt.barh(feature_importance_df['feature'], feature_importance_df['importance'], color='skyblue')\n",
        "plt.xlabel(\"Importance\")\n",
        "plt.ylabel(\"Feature\")\n",
        "plt.title(\"Feature Importance for Predicting Contributor Origin\")\n",
        "plt.gca().invert_yaxis()\n",
        "plt.tight_layout()\n",
        "plt.show()"
      ]
    },
    {
      "cell_type": "markdown",
      "metadata": {
        "id": "GuR35rs70d6-"
      },
      "source": [
        "The final step in our evaluation is to go one level deeper. We will analyze the specific edits that our model got wrong and then synthesize all our findings into a final conclusion.\n",
        "\n",
        "**Error Analysis:** We will isolate two types of errors:\n",
        "1.  **False Positives:** Edits the model *thought* were Zambian, but were not. (Predicted 1, Actual 0)\n",
        "2.  **False Negatives:** Edits the model *missed*—actual Zambian edits that it classified as non-Zambian. (Predicted 0, Actual 1)\n",
        "\n",
        "By examining the characteristics of these errors (e.g., their average `edit_hour` or `text_length`), we can understand the model's weaknesses. This analysis will be followed by a comprehensive written summary that assesses our model against the project's success criteria.\n"
      ]
    },
    {
      "cell_type": "code",
      "execution_count": 147,
      "metadata": {
        "colab": {
          "base_uri": "https://localhost:8080/"
        },
        "id": "FJwA6ul40hit",
        "outputId": "d2391f6c-6a1f-46e1-e675-760dd2a3d79a"
      },
      "outputs": [
        {
          "output_type": "stream",
          "name": "stdout",
          "text": [
            "--- Performing Error Analysis ---\n",
            "The model misclassified a total of 49 edits.\n",
            "\n",
            "Number of False Positives: 21\n",
            "Characteristics of False Positives:\n",
            "       minor    text_length  edit_hour  edit_day_of_week  is_ip_user  \\\n",
            "count   21.0      21.000000  21.000000         21.000000        21.0   \n",
            "mean     0.0   45783.809524  14.380952          3.047619         1.0   \n",
            "std      0.0   34193.142813   5.652222          2.108938         0.0   \n",
            "min      0.0    1718.000000   5.000000          0.000000         1.0   \n",
            "25%      0.0   16465.000000  11.000000          1.000000         1.0   \n",
            "50%      0.0   44084.000000  14.000000          3.000000         1.0   \n",
            "75%      0.0   71967.000000  18.000000          5.000000         1.0   \n",
            "max      0.0  128227.000000  23.000000          6.000000         1.0   \n",
            "\n",
            "       text_length_change  \n",
            "count           21.000000  \n",
            "mean           270.047619  \n",
            "std            739.932597  \n",
            "min             -8.000000  \n",
            "25%              0.000000  \n",
            "50%             23.000000  \n",
            "75%             69.000000  \n",
            "max           3151.000000  \n",
            "\n",
            "Number of False Negatives: 28\n",
            "Characteristics of False Negatives:\n",
            "       minor    text_length  edit_hour  edit_day_of_week  is_ip_user  \\\n",
            "count   28.0      28.000000  28.000000         28.000000        28.0   \n",
            "mean     0.0   58281.321429  13.214286          3.142857         1.0   \n",
            "std      0.0   46295.294604   5.202258          1.918994         0.0   \n",
            "min      0.0    2253.000000   2.000000          0.000000         1.0   \n",
            "25%      0.0   19298.500000   9.000000          1.750000         1.0   \n",
            "50%      0.0   63525.000000  14.000000          3.000000         1.0   \n",
            "75%      0.0   86153.250000  17.000000          5.000000         1.0   \n",
            "max      0.0  130285.000000  22.000000          6.000000         1.0   \n",
            "\n",
            "       text_length_change  \n",
            "count           28.000000  \n",
            "mean           -14.285714  \n",
            "std            119.264368  \n",
            "min           -477.000000  \n",
            "25%              0.000000  \n",
            "50%              7.500000  \n",
            "75%             30.250000  \n",
            "max            109.000000  \n",
            "\n",
            "For Comparison: Characteristics of True Positives (Correctly identified Zambian edits):\n",
            "       minor    text_length  edit_hour  edit_day_of_week  is_ip_user  \\\n",
            "count   95.0      95.000000  95.000000         95.000000   95.000000   \n",
            "mean     0.0   50200.663158  12.800000          2.957895    0.157895   \n",
            "std      0.0   49325.914826   6.651827          2.041671    0.366577   \n",
            "min      0.0     259.000000   0.000000          0.000000    0.000000   \n",
            "25%      0.0    7097.000000   9.000000          1.000000    0.000000   \n",
            "50%      0.0   28898.000000  12.000000          3.000000    0.000000   \n",
            "75%      0.0   74063.500000  19.000000          5.000000    0.000000   \n",
            "max      0.0  204334.000000  23.000000          6.000000    1.000000   \n",
            "\n",
            "       text_length_change  \n",
            "count           95.000000  \n",
            "mean           167.642105  \n",
            "std            398.293405  \n",
            "min           -476.000000  \n",
            "25%             -0.500000  \n",
            "50%             18.000000  \n",
            "75%            100.000000  \n",
            "max           2150.000000  \n"
          ]
        }
      ],
      "source": [
        "# Error Analysis Code\n",
        "\n",
        "print(\"--- Performing Error Analysis ---\")\n",
        "\n",
        "# For easier analysis, let's create a temporary DataFrame with the test features, actual labels, and predictions\n",
        "results_df = X_test.copy()\n",
        "results_df['actual'] = y_test\n",
        "results_df['predicted'] = y_pred\n",
        "\n",
        "# Find all the rows where the model was wrong\n",
        "misclassified = results_df[results_df['actual'] != results_df['predicted']]\n",
        "\n",
        "print(f\"The model misclassified a total of {len(misclassified)} edits.\")\n",
        "\n",
        "# Isolate the False Positives (Predicted Zambian, but was not)\n",
        "false_positives_df = misclassified[misclassified['actual'] == 0]\n",
        "print(f\"\\nNumber of False Positives: {len(false_positives_df)}\")\n",
        "print(\"Characteristics of False Positives:\")\n",
        "print(false_positives_df[feature_cols].describe())\n",
        "\n",
        "# Isolate the False Negatives (Predicted Non-Zambian, but was Zambian)\n",
        "false_negatives_df = misclassified[misclassified['actual'] == 1]\n",
        "print(f\"\\nNumber of False Negatives: {len(false_negatives_df)}\")\n",
        "print(\"Characteristics of False Negatives:\")\n",
        "print(false_negatives_df[feature_cols].describe())\n",
        "\n",
        "true_positives_df = results_df[(results_df['actual'] == 1) & (results_df['predicted'] == 1)]\n",
        "print(\"\\nFor Comparison: Characteristics of True Positives (Correctly identified Zambian edits):\")\n",
        "print(true_positives_df[feature_cols].describe())\n"
      ]
    },
    {
      "cell_type": "markdown",
      "metadata": {
        "id": "-ZsIOsRz0lqO"
      },
      "source": [
        "## Final Written Evaluation\n",
        "\n",
        "### Overall Model Performance\n",
        "- Our Decision Tree model achieved an accuracy of **93.59%** on the unseen test data. This result **meets** our pre-defined success criterion of 80% accuracy.\n",
        "\n",
        "### Detailed Performance Analysis\n",
        "- Classification & Confusion Matrix Insights: The model correctly identified **95** Zambian edits (True Positives) and **620** non-Zambian edits (True Negatives).  \n",
        "  For the Zambian class (1), **precision = 0.82**, **recall = 0.77**, **F1 = 0.79**.  \n",
        "  In total, the model misclassified **49** edits (**21** False Positives, **28** False Negatives).\n",
        "\n",
        "### Key Drivers of Predictions\n",
        "- The most important predictor was **`is_ip_user` (~0.58)**, confirming that anonymity status is a strong proxy for location.\n",
        "- Other influential features: **`text_length` (~0.21)**, **`edit_hour` (~0.09)**, and **`text_length_change` (~0.09)**.  \n",
        "  **`edit_day_of_week`** contributed modestly (~0.04), while **`minor`** had negligible impact.\n",
        "\n",
        "### Error Analysis Insights\n",
        "- From our analysis of the **28 False Negatives** (Zambian edits the model missed), their profile differs from correctly identified Zambian edits:\n",
        "  - Mean `edit_hour`: **13.21** vs **12.80** for True Positives (similar time of day).\n",
        "  - `is_ip_user`: **1.00** for False Negatives vs **0.16** for True Positives — missed Zambian edits are almost entirely from IP users.\n",
        "  - `text_length`: **58,281** vs **50,201** characters on average (longer pages).\n",
        "  - `text_length_change`: **−14** vs **+168** for True Positives — missed edits tend to be very small or slightly negative changes.\n",
        "- This suggests the model struggles particularly with **Zambian IP users making minimal changes on longer articles**.  \n",
        "  The **21 False Positives** are also all IP users, indicating the heavy weight on `is_ip_user` can trigger some non-Zambian IP edits to be labeled as Zambian.\n",
        "\n",
        "### Conclusion and Next Steps\n",
        "- The model is effective and meets our primary success criteria. To further improve recall for Zambian edits while keeping precision high, we will:\n",
        "  - Tune the tree (depth, min samples) and consider class-weighting to reduce False Negatives.\n",
        "  - Add richer behavioral/content features (e.g., session-based activity, edit size categories) to reduce over-reliance on `is_ip_user`.\n",
        "  - Evaluate ensembles (Random Forest/Gradient Boosting) and probability calibration.\n",
        "- Next, we’ll deploy the model to classify the remaining unlabeled registered users and produce the final report on contributor geography.\n"
      ]
    },
    {
      "cell_type": "markdown",
      "metadata": {
        "id": "WtkbIXW2EGc7"
      },
      "source": [
        "Now we will use our second trained Random Forest model (`rf_model`) to make predictions on the test data. The output, `y2_pred`, will be the foundation for all subsequent evaluation tasks and will allow us to directly compare its performance against the first Decision Tree model."
      ]
    },
    {
      "cell_type": "code",
      "execution_count": 148,
      "metadata": {
        "colab": {
          "base_uri": "https://localhost:8080/"
        },
        "id": "qoeYuDDdEYtg",
        "outputId": "4c4360f9-d38e-4db0-a26f-a0c40dda6765"
      },
      "outputs": [
        {
          "output_type": "stream",
          "name": "stdout",
          "text": [
            "--- Generating predictions using the Random Forest model ---\n",
            "Predictions generated for all 764 samples in the test set.\n",
            "The first 10 predictions are: [1 0 0 0 0 0 0 0 0 0]\n",
            "The first 10 actual labels are: [1 0 0 0 0 0 0 0 1 0]\n"
          ]
        }
      ],
      "source": [
        "# Making Predictions with the New Model\n",
        "print(\"--- Generating predictions using the Random Forest model ---\")\n",
        "\n",
        "# Use the trained Random Forest model to predict on the test features\n",
        "y2_pred = rf_model.predict(X2_test)\n",
        "\n",
        "print(f\"Predictions generated for all {len(y2_test)} samples in the test set.\")\n",
        "print(\"The first 10 predictions are:\", y2_pred[:10])\n",
        "print(\"The first 10 actual labels are:\", y2_test.values[:10])\n",
        "\n"
      ]
    },
    {
      "cell_type": "markdown",
      "metadata": {
        "id": "47YZdCj4G9-k"
      },
      "source": [
        "With the new predictions, we will now calculate the new model's accuracy and generate a full classification report. This will give us a quantitative measure of improvement. We are particularly interested in seeing if the precision and recall for the \"Zambian\" class have improved."
      ]
    },
    {
      "cell_type": "code",
      "execution_count": 149,
      "metadata": {
        "colab": {
          "base_uri": "https://localhost:8080/"
        },
        "id": "9KeXK-o3G_xw",
        "outputId": "6fb8ff4e-440b-40bb-9668-ef81482187c7"
      },
      "outputs": [
        {
          "output_type": "stream",
          "name": "stdout",
          "text": [
            "--- Calculating new model's performance metrics ---\n",
            "NEW Model Accuracy on Test Set: 87.30%\n",
            "SUCCESS: The new model meets the project's 80% accuracy criterion.\n",
            "\n",
            "--- New Classification Report ---\n",
            "                 precision    recall  f1-score   support\n",
            "\n",
            "Non-Zambian (0)       0.89      0.97      0.93       641\n",
            "    Zambian (1)       0.71      0.36      0.48       123\n",
            "\n",
            "       accuracy                           0.87       764\n",
            "      macro avg       0.80      0.66      0.70       764\n",
            "   weighted avg       0.86      0.87      0.85       764\n",
            "\n"
          ]
        }
      ],
      "source": [
        "# Calculating Core Performance Metrics\n",
        "\n",
        "print(\"--- Calculating new model's performance metrics ---\")\n",
        "\n",
        "# Calculate overall accuracy\n",
        "accuracy2 = accuracy_score(y2_test, y2_pred)\n",
        "print(f\"NEW Model Accuracy on Test Set: {accuracy2:.2%}\")\n",
        "\n",
        "# Check against our success criterion\n",
        "if accuracy2 >= 0.80:\n",
        "    print(\"SUCCESS: The new model meets the project's 80% accuracy criterion.\")\n",
        "else:\n",
        "    print(\"NOTE: The new model has not yet met the 80% accuracy criterion.\")\n",
        "\n",
        "# Generate the detailed classification report\n",
        "print(\"\\n--- New Classification Report ---\")\n",
        "print(classification_report(y2_test, y2_pred, target_names=['Non-Zambian (0)', 'Zambian (1)']))\n",
        "\n"
      ]
    },
    {
      "cell_type": "markdown",
      "source": [
        "A new confusion matrix will help us visualize the performance of the Random Forest model. By comparing this matrix to the previous one, we can quickly see if the model has reduced the number of False Positives or False Negatives, giving us a clearer picture of its strengths and weaknesses."
      ],
      "metadata": {
        "id": "EVKDRqwlLZXu"
      }
    },
    {
      "cell_type": "code",
      "source": [
        "# Visualizing New Model Errors\n",
        "\n",
        "print(\"--- Visualizing new model errors with a confusion matrix ---\")\n",
        "\n",
        "# Generate the confusion matrix for the new predictions\n",
        "cm2 = confusion_matrix(y2_test, y2_pred)\n",
        "\n",
        "# Plot the confusion matrix\n",
        "plt.figure(figsize=(8, 6))\n",
        "sns.heatmap(cm2, annot=True, fmt='d', cmap='Blues',\n",
        "            xticklabels=['Predicted Non-Zambian', 'Predicted Zambian'],\n",
        "            yticklabels=['Actual Non-Zambian', 'Actual Zambian'])\n",
        "plt.title('Confusion Matrix (Random Forest Model)')\n",
        "plt.ylabel('Actual Label')\n",
        "plt.xlabel('Predicted Label')\n",
        "plt.show()"
      ],
      "metadata": {
        "colab": {
          "base_uri": "https://localhost:8080/",
          "height": 581
        },
        "id": "kmgUVJSLLb7P",
        "outputId": "723269fa-2728-43b4-c6df-d8d662a9df02"
      },
      "execution_count": 150,
      "outputs": [
        {
          "output_type": "stream",
          "name": "stdout",
          "text": [
            "--- Visualizing new model errors with a confusion matrix ---\n"
          ]
        },
        {
          "output_type": "display_data",
          "data": {
            "text/plain": [
              "<Figure size 800x600 with 2 Axes>"
            ],
            "image/png": "[encoded data removed]"
          },
          "metadata": {}
        }
      ]
    },
    {
      "cell_type": "markdown",
      "source": [
        "This is a critical step. We will now inspect the feature importances of the Random Forest model. Our goal is to see a more balanced contribution from all the behavioral features. A successful outcome would show features like `edit_hour` and `text_length` having high importance, proving our new model has learned the nuanced patterns we intended it to.\n"
      ],
      "metadata": {
        "id": "Qc0a1EVRV3Fd"
      }
    },
    {
      "cell_type": "code",
      "source": [
        "\n",
        "# Interpreting New Model Logic\n",
        "\n",
        "print(\"--- Interpreting Random Forest feature importance ---\")\n",
        "\n",
        "# Extract feature importances from the trained Random Forest model\n",
        "importances2 = rf_model.feature_importances_\n",
        "\n",
        "# Create a DataFrame for plotting\n",
        "feature_importance_df2 = pd.DataFrame({\n",
        "    'feature': feature_cols2,  # Using the new feature_cols list (without is_ip_user)\n",
        "    'importance': importances2\n",
        "}).sort_values('importance', ascending=False)\n",
        "\n",
        "# Plot the feature importances\n",
        "plt.figure(figsize=(10, 6))\n",
        "plt.barh(feature_importance_df2['feature'], feature_importance_df2['importance'], color='green')\n",
        "plt.xlabel(\"Importance\")\n",
        "plt.ylabel(\"Feature\")\n",
        "plt.title(\"Feature Importance (Random Forest Model)\")\n",
        "plt.gca().invert_yaxis()\n",
        "plt.tight_layout()\n",
        "plt.show()"
      ],
      "metadata": {
        "colab": {
          "base_uri": "https://localhost:8080/",
          "height": 576
        },
        "id": "xAJtIz4BXr2c",
        "outputId": "c991f5bb-5788-45d1-cb54-1b446b111a58"
      },
      "execution_count": 151,
      "outputs": [
        {
          "output_type": "stream",
          "name": "stdout",
          "text": [
            "--- Interpreting Random Forest feature importance ---\n"
          ]
        },
        {
          "output_type": "display_data",
          "data": {
            "text/plain": [
              "<Figure size 1000x600 with 1 Axes>"
            ],
            "image/png": "[encoded data removed]"
          },
          "metadata": {}
        }
      ]
    },
    {
      "cell_type": "markdown",
      "source": [
        "Finally, we will conduct an error analysis on the new model's mistakes and write a final, comparative evaluation. We need to know *what kind* of errors this new model makes. Are they different from the first model's errors? This analysis will lead into a comprehensive summary comparing the two models and concluding which model is better."
      ],
      "metadata": {
        "id": "fO6olruwLoGs"
      }
    },
    {
      "cell_type": "code",
      "source": [
        "# Error Analysis of the New Model\n",
        "\n",
        "print(\"--- Performing Error Analysis on the Random Forest Model ---\")\n",
        "\n",
        "# Create a results DataFrame with the test features, actual labels, and new predictions\n",
        "results_df2 = X2_test.copy()\n",
        "results_df2['actual'] = y2_test\n",
        "results_df2['predicted'] = y2_pred\n",
        "\n",
        "# Find all the rows where the new model was wrong\n",
        "misclassified2 = results_df2[results_df2['actual'] != results_df2['predicted']]\n",
        "\n",
        "print(f\"The new model misclassified a total of {len(misclassified2)} edits.\")\n",
        "\n",
        "# Analyze the characteristics of the errors to see if there are any patterns\n",
        "print(\"\\nCharacteristics of Misclassified Edits:\")\n",
        "print(misclassified2.describe())\n",
        "\n"
      ],
      "metadata": {
        "colab": {
          "base_uri": "https://localhost:8080/"
        },
        "id": "tfNZoieXLn4C",
        "outputId": "e3bf5a98-247b-4349-9447-9c67fd65b553"
      },
      "execution_count": 152,
      "outputs": [
        {
          "output_type": "stream",
          "name": "stdout",
          "text": [
            "--- Performing Error Analysis on the Random Forest Model ---\n",
            "The new model misclassified a total of 97 edits.\n",
            "\n",
            "Characteristics of Misclassified Edits:\n",
            "       minor    text_length  edit_hour  edit_day_of_week  text_length_change  \\\n",
            "count   97.0      97.000000  97.000000         97.000000           97.000000   \n",
            "mean     0.0   52685.917526  12.278351          3.175258          152.711340   \n",
            "std      0.0   50964.094600   6.422198          2.106588          406.152603   \n",
            "min      0.0     259.000000   0.000000          0.000000         -477.000000   \n",
            "25%      0.0   13393.000000   8.000000          1.000000            0.000000   \n",
            "50%      0.0   28895.000000  13.000000          3.000000           12.000000   \n",
            "75%      0.0   75698.000000  17.000000          5.000000           86.000000   \n",
            "max      0.0  204334.000000  23.000000          6.000000         2217.000000   \n",
            "\n",
            "          actual  predicted  \n",
            "count  97.000000  97.000000  \n",
            "mean    0.814433   0.185567  \n",
            "std     0.390776   0.390776  \n",
            "min     0.000000   0.000000  \n",
            "25%     1.000000   0.000000  \n",
            "50%     1.000000   0.000000  \n",
            "75%     1.000000   0.000000  \n",
            "max     1.000000   1.000000  \n"
          ]
        }
      ]
    },
    {
      "cell_type": "markdown",
      "source": [
        "## Final Comparative Evaluation\n",
        "### Overall Performance Comparison:\n",
        "- Our new Random Forest model achieved an accuracy of 87.30%, compared to 93.59% from the original Decision Tree.\n",
        "-\tBased on this primary metric, the new model is slightly less accurate.\n",
        "\n",
        "### Detailed Performance Analysis:\n",
        "-Classification Report: The precision for identifying Zambian contributors is now 0.71, and the recall is 0.36. The F1-score of 0.48 for the Zambian class is lower than the original model’s 0.79. This indicates the new model is worse at correctly identifying Zambian editors.\n",
        "-\tConfusion Matrix: The new model produced 18 False Positives and 79 False Negatives. This is a decline from the first model which had 21 and 28 respectively (slightly fewer FPs but many more FNs).\n",
        "\n",
        "\n",
        "### Key Drivers of Predictions (Model Logic):\n",
        "-\tThe new feature importance chart shows that text_length (≈0.45) is now the most important predictor, followed by text_length_change (≈0.26), edit_hour (≈0.18), and edit_day_of_week (≈0.11); minor has ~0 importance.\n",
        "-\tUnlike the first model (dominated by is_ip_user), importances are more evenly distributed across multiple features, indicating a shift away from reliance on a single signal.\n",
        "\n",
        "\n",
        "### Error Analysis Insights:\n",
        "-\tThe model’s mistakes are now concentrated mostly on False Negatives: 79 of 97 misclassifications (~81%) are actual Zambian edits predicted as Non Zambian, reflecting the low recall for class 1.\n",
        "-\tMisclassified edits tend to occur around midday (mean edit_hour ≈ 12.28), on mid week days (mean day_of_week ≈ 3.18), with longer articles (mean text_length ≈ 52.7k) and small positive changes (median text_length_change ≈ 12, many near zero).\n",
        "\n",
        "### Conclusion: Was the Re Modeling Successful?\n",
        "-\tPartially. The re modeling reduced dependence on a single feature and slightly lowered False Positives, but overall accuracy dropped and recall for Zambian edits fell sharply. If the goal is better identification of Zambian editors, this version is not an improvement.\n"
      ],
      "metadata": {
        "id": "Jjoj1QxmLy45"
      }
    },
    {
      "cell_type": "markdown",
      "source": [
        "# **5. Deployment**"
      ],
      "metadata": {
        "id": "WYR1_Mm5ctSh"
      }
    },
    {
      "cell_type": "markdown",
      "source": [
        "After a thorough and iterative evaluation process involving two different modeling strategies, we have selected our **first model, the Decision Tree Classifier (`dt_model`)**, for the final deployment. This model was chosen because it proved to be the most effective at achieving the project's primary objectives."
      ],
      "metadata": {
        "id": "tmWrHnCSdYYk"
      }
    },
    {
      "cell_type": "markdown",
      "source": [
        "The justification for selecting the Decision Tree is based on its superior performance on our project's key success criteria:\n",
        "\n",
        "*   **Superior Performance on the Main Objective:** The primary goal is to identify Zambian contributors. The Decision Tree achieved a much higher F1-score (**0.79**) and recall (**77%**) for the Zambian class compared to the Random Forest (0.48 F1-score, 36% recall). This means it is significantly better at finding Zambian edits.\n",
        "\n",
        "*   **Higher Overall Accuracy:** The Decision Tree's overall accuracy of **93.59%** was substantially higher than the Random Forest's **87.30%**.\n",
        "\n",
        "While the model has a known limitation (heavy reliance on `is_ip_user`), its real-world performance on our test data was demonstrably better.\n",
        "\n"
      ],
      "metadata": {
        "id": "e0eN5Wf1e9rD"
      }
    }
  ],
  "metadata": {
    "colab": {
      "provenance": [],
      "toc_visible": true,
      "include_colab_link": true
    },
    "kernelspec": {
      "display_name": "Python 3",
      "name": "python3"
    },
    "language_info": {
      "name": "python"
    }
  },
  "nbformat": 4,
  "nbformat_minor": 0
}